{
 "cells": [
  {
   "cell_type": "code",
   "execution_count": 1,
   "metadata": {},
   "outputs": [],
   "source": [
    "import numpy as np\n",
    "import tensorflow as tf\n",
    "import pandas\n",
    "import pickle as pkl\n",
    "from tensorflow.keras import layers , activations , models , preprocessing, utils\n",
    "import random\n",
    "random.seed(2020)\n",
    "import re"
   ]
  },
  {
   "cell_type": "code",
   "execution_count": 2,
   "metadata": {},
   "outputs": [],
   "source": [
    "min_line_length = 1\n",
    "max_line_length = 12\n",
    "HIDDEN_DIM=400"
   ]
  },
  {
   "cell_type": "code",
   "execution_count": 3,
   "metadata": {},
   "outputs": [],
   "source": [
    "with open(r\"data\\conversations.pkl\", \"rb\") as handle:\n",
    "    conversation = pkl.load(handle)"
   ]
  },
  {
   "cell_type": "code",
   "execution_count": 4,
   "metadata": {},
   "outputs": [],
   "source": [
    "#Take a random sample of conversations\n",
    "\n",
    "sample_size = 30000\n",
    "\n",
    "indices = random.sample(range(len(conversation)), sample_size)\n",
    "\n",
    "conv_sample = []\n",
    "\n",
    "for i in indices:\n",
    "    conv = conversation[i]\n",
    "    conv_sample.append(conv)\n"
   ]
  },
  {
   "cell_type": "code",
   "execution_count": 5,
   "metadata": {},
   "outputs": [],
   "source": [
    "# Sort the sentences into questions (inputs) and answers (targets)\n",
    "questions = []\n",
    "answers = []\n",
    "\n",
    "for conv in conv_sample:\n",
    "    for i in range(len(conv)-1):\n",
    "        questions.append(conv[i])\n",
    "        answers.append(conv[i+1])"
   ]
  },
  {
   "cell_type": "code",
   "execution_count": 6,
   "metadata": {},
   "outputs": [],
   "source": [
    "def clean_text(text):\n",
    "    '''Clean text by removing unnecessary characters and altering the format of words.'''\n",
    "    text = text.lower()\n",
    "    text = re.sub(r\"i'm\", \"i am\", text)\n",
    "    text = re.sub(r\"he's\", \"he is\", text)\n",
    "    text = re.sub(r\"she's\", \"she is\", text)\n",
    "    text = re.sub(r\"it's\", \"it is\", text)\n",
    "    text = re.sub(r\"that's\", \"that is\", text)\n",
    "    text = re.sub(r\"what's\", \"that is\", text)\n",
    "    text = re.sub(r\"where's\", \"where is\", text)\n",
    "    text = re.sub(r\"how's\", \"how is\", text)\n",
    "    text = re.sub(r\"\\'ll\", \" will\", text)\n",
    "    text = re.sub(r\"\\'ve\", \" have\", text)\n",
    "    text = re.sub(r\"\\'re\", \" are\", text)\n",
    "    text = re.sub(r\"\\'d\", \" would\", text)\n",
    "    text = re.sub(r\"\\'re\", \" are\", text)\n",
    "    text = re.sub(r\"won't\", \"will not\", text)\n",
    "    text = re.sub(r\"can't\", \"cannot\", text)\n",
    "    text = re.sub(r\"n't\", \" not\", text)\n",
    "    text = re.sub(r\"n'\", \"ng\", text)\n",
    "    text = re.sub(r\"'bout\", \"about\", text)\n",
    "    text = re.sub(r\"'til\", \"until\", text)\n",
    "    text = re.sub(r\"[-()\\\"#/@;:<>{}`+=~|.!?,]\", \"\", text)\n",
    "    text = re.sub(r\"  \", \" \", text)\n",
    "    return text"
   ]
  },
  {
   "cell_type": "code",
   "execution_count": 7,
   "metadata": {},
   "outputs": [],
   "source": [
    "# Clean the data\n",
    "clean_questions = []\n",
    "for question in questions:\n",
    "    clean_questions.append(clean_text(question))\n",
    "    \n",
    "clean_answers = []    \n",
    "for answer in answers:\n",
    "    clean_answers.append(clean_text(answer))"
   ]
  },
  {
   "cell_type": "code",
   "execution_count": 8,
   "metadata": {},
   "outputs": [],
   "source": [
    "# Filter out the questions that are too short/long\n",
    "short_questions_temp = []\n",
    "short_answers_temp = []\n",
    "\n",
    "i = 0\n",
    "for question in clean_questions:\n",
    "    if len(question.split()) >= min_line_length and len(question.split()) <= max_line_length:\n",
    "        short_questions_temp.append(question)\n",
    "        short_answers_temp.append(clean_answers[i])\n",
    "    i += 1\n",
    "\n",
    "# Filter out the answers that are too short/long\n",
    "short_questions = []\n",
    "short_answers = []\n",
    "\n",
    "i = 0\n",
    "for answer in short_answers_temp:\n",
    "    if len(answer.split()) >= min_line_length and len(answer.split()) <= max_line_length:\n",
    "        short_answers.append(answer)\n",
    "        short_questions.append(short_questions_temp[i])\n",
    "    i += 1"
   ]
  },
  {
   "cell_type": "code",
   "execution_count": 9,
   "metadata": {},
   "outputs": [
    {
     "name": "stdout",
     "output_type": "stream",
     "text": [
      "# of questions: 41129\n",
      "# of answers: 41129\n",
      "% of data used: 51.980000000000004%\n"
     ]
    }
   ],
   "source": [
    "# Compare the number of lines we will use with the total number of lines.\n",
    "print(\"# of questions:\", len(short_questions))\n",
    "print(\"# of answers:\", len(short_answers))\n",
    "print(\"% of data used: {}%\".format(round(len(short_questions)/len(questions),4)*100))"
   ]
  },
  {
   "cell_type": "code",
   "execution_count": 10,
   "metadata": {},
   "outputs": [
    {
     "name": "stdout",
     "output_type": "stream",
     "text": [
      "VOCAB SIZE : 19190\n"
     ]
    }
   ],
   "source": [
    "tokenizer = preprocessing.text.Tokenizer()\n",
    "tokenizer.fit_on_texts( short_questions + short_answers )\n",
    "VOCAB_SIZE = len( tokenizer.word_index )+1\n",
    "print( 'VOCAB SIZE : {}'.format( VOCAB_SIZE ))"
   ]
  },
  {
   "cell_type": "code",
   "execution_count": 11,
   "metadata": {},
   "outputs": [
    {
     "name": "stdout",
     "output_type": "stream",
     "text": [
      "final number of samples: 27701\n"
     ]
    }
   ],
   "source": [
    "def trim_rare_words(word_counts, list_of_questions, list_of_answers, min_word_freq=1):\n",
    "    \"\"\"\n",
    "    take a dict of word wounts, a list of questions and a list of answers \n",
    "    and return these lists without those that have rare words. \n",
    "    Optional argument sets the minimum frequency of the rare words. \n",
    "    \"\"\"\n",
    "    keep_words = {}\n",
    "    for key, value in word_counts:\n",
    "        if value > min_word_freq:\n",
    "            keep_words[key] = value\n",
    "    \n",
    "    keep_questions_indeces = []\n",
    "    for i, question in enumerate(list_of_questions):\n",
    "        q_words = question.split(' ')\n",
    "        if all(word in keep_words.keys() for word in q_words):\n",
    "            keep_questions_indeces.append(i)\n",
    "    keep_answer_indeces = []\n",
    "    for i, answer in enumerate(list_of_answers):\n",
    "        a_words = answer.split(' ')\n",
    "        if all(word in keep_words.keys() for word in a_words):\n",
    "            keep_answer_indeces.append(i)\n",
    "    \n",
    "    total_keep = set(keep_questions_indeces).intersection(keep_answer_indeces)\n",
    "    \n",
    "    keep_questions = [question for i, question in enumerate(list_of_questions) if i in total_keep ]\n",
    "    keep_answers = [answer for i, answer in enumerate(list_of_answers) if i in total_keep ]\n",
    "    \n",
    "    \n",
    "    return keep_questions, keep_answers\n",
    "\n",
    "k_questions, k_answers = trim_rare_words(tokenizer.word_counts.items(), short_questions, short_answers, 2)  \n",
    "\n",
    "print('final number of samples: {}'.format(len(k_questions)))"
   ]
  },
  {
   "cell_type": "code",
   "execution_count": 12,
   "metadata": {},
   "outputs": [],
   "source": [
    "def tagger(decoder_input_sentence):\n",
    "    bos = \"<BOS> \"\n",
    "    eos = \" <EOS>\"\n",
    "    final_target = [bos + text + eos for text in decoder_input_sentence] \n",
    "    return final_target\n",
    "\n",
    "tagged_answers = tagger(k_answers)"
   ]
  },
  {
   "cell_type": "code",
   "execution_count": 13,
   "metadata": {},
   "outputs": [
    {
     "name": "stdout",
     "output_type": "stream",
     "text": [
      "New VOCAB SIZE : 6925\n"
     ]
    }
   ],
   "source": [
    "tokenizer = preprocessing.text.Tokenizer()\n",
    "tokenizer.fit_on_texts( k_questions + tagged_answers )\n",
    "VOCAB_SIZE = len( tokenizer.word_index )+1\n",
    "print( 'New VOCAB SIZE : {}'.format( VOCAB_SIZE ))"
   ]
  },
  {
   "cell_type": "code",
   "execution_count": 14,
   "metadata": {},
   "outputs": [
    {
     "name": "stdout",
     "output_type": "stream",
     "text": [
      "(27701, 12) 12\n",
      "(27701, 14) 14\n",
      "(27701, 14, 6925)\n"
     ]
    }
   ],
   "source": [
    "# transform text to tokenized padded sequences, for the encoder and decoder inputs\n",
    "\n",
    "# encoder_input_data\n",
    "tokenized_questions = tokenizer.texts_to_sequences( k_questions )\n",
    "maxlen_questions = max( [ len(x) for x in tokenized_questions ] )\n",
    "padded_questions = preprocessing.sequence.pad_sequences( tokenized_questions , maxlen=maxlen_questions , padding='post' )\n",
    "encoder_input_data = np.array( padded_questions )\n",
    "print( encoder_input_data.shape , maxlen_questions )\n",
    "\n",
    "# decoder_input_data\n",
    "tokenized_answers = tokenizer.texts_to_sequences( tagged_answers )\n",
    "maxlen_answers = max( [ len(x) for x in tokenized_answers ] )\n",
    "padded_answers = preprocessing.sequence.pad_sequences( tokenized_answers , maxlen=maxlen_answers , padding='post' )\n",
    "decoder_input_data = np.array( padded_answers )\n",
    "print( decoder_input_data.shape , maxlen_answers )\n",
    "\n",
    "# Do the same but with one-hot-encoding for the decoder outputs. \n",
    "\n",
    "# decoder_output_data\n",
    "tokenized_answers = tokenizer.texts_to_sequences( tagged_answers )\n",
    "for i in range(len(tokenized_answers)) :\n",
    "    tokenized_answers[i] = tokenized_answers[i][1:]\n",
    "padded_answers = preprocessing.sequence.pad_sequences( tokenized_answers , maxlen=maxlen_answers , padding='post' )\n",
    "onehot_answers = utils.to_categorical( padded_answers , VOCAB_SIZE )\n",
    "decoder_output_data = np.array( onehot_answers )\n",
    "print( decoder_output_data.shape )\n"
   ]
  },
  {
   "cell_type": "code",
   "execution_count": 15,
   "metadata": {},
   "outputs": [
    {
     "name": "stdout",
     "output_type": "stream",
     "text": [
      "WARNING:tensorflow:From C:\\Users\\georg\\Anaconda3\\lib\\site-packages\\tensorflow_core\\python\\keras\\initializers.py:119: calling RandomUniform.__init__ (from tensorflow.python.ops.init_ops) with dtype is deprecated and will be removed in a future version.\n",
      "Instructions for updating:\n",
      "Call initializer instance with the dtype argument instead of passing it to the constructor\n",
      "WARNING:tensorflow:From C:\\Users\\georg\\Anaconda3\\lib\\site-packages\\tensorflow_core\\python\\ops\\resource_variable_ops.py:1630: calling BaseResourceVariable.__init__ (from tensorflow.python.ops.resource_variable_ops) with constraint is deprecated and will be removed in a future version.\n",
      "Instructions for updating:\n",
      "If using Keras pass *_constraint arguments to layers.\n",
      "WARNING:tensorflow:From C:\\Users\\georg\\Anaconda3\\lib\\site-packages\\tensorflow_core\\python\\keras\\backend.py:3994: where (from tensorflow.python.ops.array_ops) is deprecated and will be removed in a future version.\n",
      "Instructions for updating:\n",
      "Use tf.where in 2.0, which has the same broadcast rule as np.where\n",
      "Model: \"model\"\n",
      "__________________________________________________________________________________________________\n",
      "Layer (type)                    Output Shape         Param #     Connected to                     \n",
      "==================================================================================================\n",
      "input_1 (InputLayer)            [(None, None)]       0                                            \n",
      "__________________________________________________________________________________________________\n",
      "input_2 (InputLayer)            [(None, None)]       0                                            \n",
      "__________________________________________________________________________________________________\n",
      "embedding (Embedding)           (None, None, 400)    2770000     input_1[0][0]                    \n",
      "__________________________________________________________________________________________________\n",
      "embedding_1 (Embedding)         (None, None, 400)    2770000     input_2[0][0]                    \n",
      "__________________________________________________________________________________________________\n",
      "lstm (LSTM)                     [(None, 400), (None, 1281600     embedding[0][0]                  \n",
      "__________________________________________________________________________________________________\n",
      "lstm_1 (LSTM)                   [(None, None, 400),  1281600     embedding_1[0][0]                \n",
      "                                                                 lstm[0][1]                       \n",
      "                                                                 lstm[0][2]                       \n",
      "__________________________________________________________________________________________________\n",
      "dense (Dense)                   (None, None, 6925)   2776925     lstm_1[0][0]                     \n",
      "==================================================================================================\n",
      "Total params: 10,880,125\n",
      "Trainable params: 10,880,125\n",
      "Non-trainable params: 0\n",
      "__________________________________________________________________________________________________\n"
     ]
    }
   ],
   "source": [
    "# The encoding layer of the model\n",
    "\n",
    "encoder_inputs = tf.keras.layers.Input(shape=( None , ))\n",
    "encoder_embedding = tf.keras.layers.Embedding( VOCAB_SIZE, HIDDEN_DIM , mask_zero=True ) (encoder_inputs)\n",
    "encoder_outputs , state_h , state_c = tf.keras.layers.LSTM( HIDDEN_DIM , return_state=True )( encoder_embedding )\n",
    "encoder_states = [ state_h , state_c ]\n",
    "\n",
    "# The decoding layer, initialised with the encoder's output state\n",
    "decoder_inputs = tf.keras.layers.Input(shape=( None ,  ))\n",
    "decoder_embedding = tf.keras.layers.Embedding( VOCAB_SIZE, HIDDEN_DIM , mask_zero=True) (decoder_inputs)\n",
    "decoder_lstm = tf.keras.layers.LSTM( HIDDEN_DIM , return_state=True , return_sequences=True )\n",
    "decoder_outputs , _ , _ = decoder_lstm ( decoder_embedding , initial_state=encoder_states )\n",
    "\n",
    "# A dense output layer, with a softmax activation\n",
    "decoder_dense = tf.keras.layers.Dense( VOCAB_SIZE , activation=tf.keras.activations.softmax ) \n",
    "output = decoder_dense ( decoder_outputs )\n",
    "\n",
    "# Compile the model using the RMSprop Optimiser\n",
    "model = tf.keras.models.Model([encoder_inputs, decoder_inputs], output )\n",
    "model.compile(optimizer=tf.keras.optimizers.RMSprop(), loss='categorical_crossentropy', metrics=['accuracy'])\n",
    "\n",
    "model.summary()"
   ]
  },
  {
   "cell_type": "code",
   "execution_count": 16,
   "metadata": {},
   "outputs": [
    {
     "name": "stdout",
     "output_type": "stream",
     "text": [
      "Train on 22160 samples, validate on 5541 samples\n",
      "Epoch 1/45\n",
      "22160/22160 [==============================] - 192s 9ms/sample - loss: 2.3283 - acc: 0.3006 - val_loss: 2.1455 - val_acc: 0.3383\n",
      "Epoch 2/45\n",
      "22160/22160 [==============================] - 190s 9ms/sample - loss: 2.0332 - acc: 0.3512 - val_loss: 2.0446 - val_acc: 0.3569\n",
      "Epoch 3/45\n",
      "22160/22160 [==============================] - 190s 9ms/sample - loss: 1.9380 - acc: 0.3657 - val_loss: 1.9966 - val_acc: 0.3652\n",
      "Epoch 4/45\n",
      "22160/22160 [==============================] - 193s 9ms/sample - loss: 1.8757 - acc: 0.3750 - val_loss: 1.9715 - val_acc: 0.3695\n",
      "Epoch 5/45\n",
      "22160/22160 [==============================] - 189s 9ms/sample - loss: 1.8228 - acc: 0.3828 - val_loss: 1.9626 - val_acc: 0.3745\n",
      "Epoch 6/45\n",
      "22160/22160 [==============================] - 188s 8ms/sample - loss: 1.7754 - acc: 0.3887 - val_loss: 1.9575 - val_acc: 0.3754\n",
      "Epoch 7/45\n",
      "22160/22160 [==============================] - 189s 9ms/sample - loss: 1.7283 - acc: 0.3967 - val_loss: 1.9594 - val_acc: 0.3757\n",
      "Epoch 8/45\n",
      "22160/22160 [==============================] - 189s 9ms/sample - loss: 1.6803 - acc: 0.4044 - val_loss: 1.9636 - val_acc: 0.3754\n",
      "Epoch 9/45\n",
      "22160/22160 [==============================] - 192s 9ms/sample - loss: 1.6322 - acc: 0.4130 - val_loss: 1.9747 - val_acc: 0.3754\n",
      "Epoch 10/45\n",
      "22160/22160 [==============================] - 190s 9ms/sample - loss: 1.5824 - acc: 0.4224 - val_loss: 1.9902 - val_acc: 0.3741\n",
      "Epoch 11/45\n",
      "22160/22160 [==============================] - 191s 9ms/sample - loss: 1.5308 - acc: 0.4347 - val_loss: 2.0050 - val_acc: 0.3672\n",
      "Epoch 12/45\n",
      "22160/22160 [==============================] - 190s 9ms/sample - loss: 1.4765 - acc: 0.4464 - val_loss: 2.0256 - val_acc: 0.3659\n",
      "Epoch 13/45\n",
      "22160/22160 [==============================] - 190s 9ms/sample - loss: 1.4212 - acc: 0.4626 - val_loss: 2.0563 - val_acc: 0.3614\n",
      "Epoch 14/45\n",
      "22160/22160 [==============================] - 194s 9ms/sample - loss: 1.3648 - acc: 0.4786 - val_loss: 2.0767 - val_acc: 0.3576\n",
      "Epoch 15/45\n",
      "22160/22160 [==============================] - 192s 9ms/sample - loss: 1.3076 - acc: 0.4959 - val_loss: 2.1065 - val_acc: 0.3492\n",
      "Epoch 16/45\n",
      "22160/22160 [==============================] - 190s 9ms/sample - loss: 1.2489 - acc: 0.5167 - val_loss: 2.1422 - val_acc: 0.3412\n",
      "Epoch 17/45\n",
      "22160/22160 [==============================] - 190s 9ms/sample - loss: 1.1916 - acc: 0.5373 - val_loss: 2.1715 - val_acc: 0.3447\n",
      "Epoch 18/45\n",
      "22160/22160 [==============================] - 190s 9ms/sample - loss: 1.1326 - acc: 0.5599 - val_loss: 2.2092 - val_acc: 0.3375\n",
      "Epoch 19/45\n",
      "22160/22160 [==============================] - 194s 9ms/sample - loss: 1.0741 - acc: 0.5832 - val_loss: 2.2426 - val_acc: 0.3397\n",
      "Epoch 20/45\n",
      "22160/22160 [==============================] - 192s 9ms/sample - loss: 1.0176 - acc: 0.6058 - val_loss: 2.2849 - val_acc: 0.3326\n",
      "Epoch 21/45\n",
      "22160/22160 [==============================] - 190s 9ms/sample - loss: 0.9624 - acc: 0.6300 - val_loss: 2.3220 - val_acc: 0.3286\n",
      "Epoch 22/45\n",
      "22160/22160 [==============================] - 190s 9ms/sample - loss: 0.9096 - acc: 0.6527 - val_loss: 2.3607 - val_acc: 0.3283\n",
      "Epoch 23/45\n",
      "22160/22160 [==============================] - 190s 9ms/sample - loss: 0.8581 - acc: 0.6761 - val_loss: 2.4062 - val_acc: 0.3225\n",
      "Epoch 24/45\n",
      "22160/22160 [==============================] - 194s 9ms/sample - loss: 0.8071 - acc: 0.6985 - val_loss: 2.4451 - val_acc: 0.3206\n",
      "Epoch 25/45\n",
      "22160/22160 [==============================] - 190s 9ms/sample - loss: 0.7593 - acc: 0.7203 - val_loss: 2.4931 - val_acc: 0.3191\n",
      "Epoch 26/45\n",
      "22160/22160 [==============================] - 190s 9ms/sample - loss: 0.7134 - acc: 0.7408 - val_loss: 2.5298 - val_acc: 0.3163\n",
      "Epoch 27/45\n",
      "22160/22160 [==============================] - 190s 9ms/sample - loss: 0.6695 - acc: 0.7605 - val_loss: 2.5656 - val_acc: 0.3157\n",
      "Epoch 28/45\n",
      "22160/22160 [==============================] - 191s 9ms/sample - loss: 0.6287 - acc: 0.7772 - val_loss: 2.6070 - val_acc: 0.3134\n",
      "Epoch 29/45\n",
      "22160/22160 [==============================] - 194s 9ms/sample - loss: 0.5892 - acc: 0.7964 - val_loss: 2.6414 - val_acc: 0.3136\n",
      "Epoch 30/45\n",
      "22160/22160 [==============================] - 190s 9ms/sample - loss: 0.5548 - acc: 0.8108 - val_loss: 2.6853 - val_acc: 0.3102\n",
      "Epoch 31/45\n",
      "22160/22160 [==============================] - 190s 9ms/sample - loss: 0.5235 - acc: 0.8241 - val_loss: 2.7176 - val_acc: 0.3058\n",
      "Epoch 32/45\n",
      "22160/22160 [==============================] - 190s 9ms/sample - loss: 0.4936 - acc: 0.8363 - val_loss: 2.7496 - val_acc: 0.3102\n",
      "Epoch 33/45\n",
      "22160/22160 [==============================] - 192s 9ms/sample - loss: 0.4674 - acc: 0.8467 - val_loss: 2.7792 - val_acc: 0.3067\n",
      "Epoch 34/45\n",
      "22160/22160 [==============================] - 195s 9ms/sample - loss: 0.4404 - acc: 0.8580 - val_loss: 2.8112 - val_acc: 0.3069\n",
      "Epoch 35/45\n",
      "22160/22160 [==============================] - 190s 9ms/sample - loss: 0.4170 - acc: 0.8667 - val_loss: 2.8385 - val_acc: 0.3046\n",
      "Epoch 36/45\n",
      "22160/22160 [==============================] - 189s 9ms/sample - loss: 0.3958 - acc: 0.8744 - val_loss: 2.8640 - val_acc: 0.3047\n",
      "Epoch 37/45\n",
      "22160/22160 [==============================] - 188s 9ms/sample - loss: 0.3766 - acc: 0.8816 - val_loss: 2.8930 - val_acc: 0.3037\n",
      "Epoch 38/45\n",
      "22160/22160 [==============================] - 191s 9ms/sample - loss: 0.3596 - acc: 0.8879 - val_loss: 2.9160 - val_acc: 0.3024\n",
      "Epoch 39/45\n",
      "22160/22160 [==============================] - 190s 9ms/sample - loss: 0.3439 - acc: 0.8935 - val_loss: 2.9397 - val_acc: 0.3029\n",
      "Epoch 40/45\n",
      "22160/22160 [==============================] - 188s 9ms/sample - loss: 0.3294 - acc: 0.8979 - val_loss: 2.9653 - val_acc: 0.3011\n",
      "Epoch 41/45\n",
      "22160/22160 [==============================] - 188s 8ms/sample - loss: 0.3161 - acc: 0.9018 - val_loss: 2.9879 - val_acc: 0.3021\n",
      "Epoch 42/45\n",
      "22160/22160 [==============================] - 189s 9ms/sample - loss: 0.3041 - acc: 0.9054 - val_loss: 3.0083 - val_acc: 0.2995\n",
      "Epoch 43/45\n",
      "22160/22160 [==============================] - 191s 9ms/sample - loss: 0.2926 - acc: 0.9094 - val_loss: 3.0251 - val_acc: 0.3016\n",
      "Epoch 44/45\n",
      "22160/22160 [==============================] - 191s 9ms/sample - loss: 0.2826 - acc: 0.9124 - val_loss: 3.0391 - val_acc: 0.2994\n",
      "Epoch 45/45\n",
      "22160/22160 [==============================] - 189s 9ms/sample - loss: 0.2739 - acc: 0.9144 - val_loss: 3.0494 - val_acc: 0.2987\n",
      "Wall time: 2h 22min 58s\n"
     ]
    }
   ],
   "source": [
    "%%time\n",
    "batch_size = 100\n",
    "epochs = 45\n",
    "\n",
    "history = model.fit([encoder_input_data, decoder_input_data],decoder_output_data,\n",
    "                    batch_size=batch_size,\n",
    "                    epochs=epochs,\n",
    "                    verbose=1,\n",
    "                    validation_split=0.2)"
   ]
  },
  {
   "cell_type": "code",
   "execution_count": 17,
   "metadata": {},
   "outputs": [
    {
     "name": "stdout",
     "output_type": "stream",
     "text": [
      "Saved model to disk\n"
     ]
    }
   ],
   "source": [
    "model_json = model.to_json()\n",
    "with open(\"LSTM_D_s2s_model_keras.json\", \"w\") as json_file:\n",
    "    json_file.write(model_json)\n",
    "# serialize weights to HDF5\n",
    "model.save_weights(\"LSTM_D_s2s_model_keras_weights.h5\")\n",
    "print(\"Saved model to disk\")"
   ]
  },
  {
   "cell_type": "code",
   "execution_count": 18,
   "metadata": {},
   "outputs": [],
   "source": [
    "model.load_weights('LSTM_D_s2s_model_keras_weights.h5')"
   ]
  },
  {
   "cell_type": "code",
   "execution_count": 19,
   "metadata": {},
   "outputs": [],
   "source": [
    "# In order to make inference, we need to tweek the process a bit. \n",
    "# We initialise the encoder's and decoder's states using the trained model.\n",
    "\n",
    "def make_inference_models():\n",
    "    \n",
    "    encoder_model = tf.keras.models.Model(encoder_inputs, encoder_states)\n",
    "    \n",
    "    decoder_state_input_h = tf.keras.layers.Input(shape=( HIDDEN_DIM ,))\n",
    "    decoder_state_input_c = tf.keras.layers.Input(shape=( HIDDEN_DIM ,))\n",
    "    \n",
    "    decoder_states_inputs = [decoder_state_input_h, decoder_state_input_c]\n",
    "    \n",
    "    decoder_outputs, state_h, state_c = decoder_lstm(\n",
    "        decoder_embedding , initial_state=decoder_states_inputs)\n",
    "    decoder_states = [state_h, state_c]\n",
    "    decoder_outputs = decoder_dense(decoder_outputs)\n",
    "    decoder_model = tf.keras.models.Model(\n",
    "        [decoder_inputs] + decoder_states_inputs,\n",
    "        [decoder_outputs] + decoder_states)\n",
    "    \n",
    "    return encoder_model , decoder_model"
   ]
  },
  {
   "cell_type": "code",
   "execution_count": 20,
   "metadata": {},
   "outputs": [],
   "source": [
    "def str_to_tokens( sentence : str ):\n",
    "    words = sentence.lower().split()\n",
    "    tokens_list = list()\n",
    "    for word in words:\n",
    "        tokens_list.append( tokenizer.word_index[ word ] ) \n",
    "    return preprocessing.sequence.pad_sequences( [tokens_list] , maxlen=maxlen_questions , padding='post')"
   ]
  },
  {
   "cell_type": "code",
   "execution_count": 22,
   "metadata": {},
   "outputs": [
    {
     "name": "stdout",
     "output_type": "stream",
     "text": [
      "Enter question : hello\n",
      " hello eos\n",
      "Enter question : what is new\n",
      " like what eos\n",
      "Enter question : i do not know \n",
      " you are as bad as harry eos\n",
      "Enter question : who is harry\n",
      " i am not you eos\n",
      "Enter question : then who am i\n",
      " you are a friend eos\n",
      "Enter question : i hope you remember that\n",
      " i think i should eos\n",
      "Enter question : i think so to\n",
      " oh no i do not think so eos\n",
      "Enter question : did you change your mind\n",
      " i just never eos\n",
      "Enter question : never what\n",
      " i need your to your life eos\n",
      "Enter question : what for\n",
      " a ticket home eos\n"
     ]
    }
   ],
   "source": [
    "enc_model , dec_model = make_inference_models()\n",
    "\n",
    "for _ in range(10):\n",
    "    states_values = enc_model.predict( str_to_tokens( input( 'Enter question : ' ) ) )\n",
    "    empty_target_seq = np.zeros( ( 1 , 1 ) )\n",
    "    empty_target_seq[0, 0] = tokenizer.word_index['bos']\n",
    "    stop_condition = False\n",
    "    decoded_translation = ''\n",
    "    while not stop_condition :\n",
    "        dec_outputs , h , c = dec_model.predict([ empty_target_seq ] + states_values )\n",
    "        sampled_word_index = np.argmax( dec_outputs[0, -1, :] )\n",
    "        sampled_word = None\n",
    "        for word , index in tokenizer.word_index.items() :\n",
    "            if sampled_word_index == index :\n",
    "                decoded_translation += ' {}'.format( word )\n",
    "                sampled_word = word\n",
    "        \n",
    "        if sampled_word == 'eos' or len(decoded_translation.split()) > maxlen_answers:\n",
    "            stop_condition = True\n",
    "            \n",
    "        empty_target_seq = np.zeros( ( 1 , 1 ) )  \n",
    "        empty_target_seq[ 0 , 0 ] = sampled_word_index\n",
    "        states_values = [ h , c ] \n",
    "\n",
    "    print( decoded_translation )\n"
   ]
  },
  {
   "cell_type": "code",
   "execution_count": null,
   "metadata": {},
   "outputs": [],
   "source": []
  }
 ],
 "metadata": {
  "kernelspec": {
   "display_name": "Python 3",
   "language": "python",
   "name": "python3"
  },
  "language_info": {
   "codemirror_mode": {
    "name": "ipython",
    "version": 3
   },
   "file_extension": ".py",
   "mimetype": "text/x-python",
   "name": "python",
   "nbconvert_exporter": "python",
   "pygments_lexer": "ipython3",
   "version": "3.6.10"
  }
 },
 "nbformat": 4,
 "nbformat_minor": 2
}
