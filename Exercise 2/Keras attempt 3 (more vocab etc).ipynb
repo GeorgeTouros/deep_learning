{
 "cells": [
  {
   "cell_type": "code",
   "execution_count": 1,
   "metadata": {},
   "outputs": [],
   "source": [
    "import numpy as np\n",
    "import tensorflow as tf\n",
    "import pandas\n",
    "import pickle as pkl\n",
    "from tensorflow.keras import layers , activations , models , preprocessing, utils\n",
    "import random\n",
    "random.seed(2020)\n",
    "import re"
   ]
  },
  {
   "cell_type": "code",
   "execution_count": 2,
   "metadata": {},
   "outputs": [],
   "source": [
    "min_line_length = 1\n",
    "max_line_length = 12\n",
    "HIDDEN_DIM=200"
   ]
  },
  {
   "cell_type": "code",
   "execution_count": 3,
   "metadata": {},
   "outputs": [],
   "source": [
    "with open(r\"data\\conversations.pkl\", \"rb\") as handle:\n",
    "    conversation = pkl.load(handle)"
   ]
  },
  {
   "cell_type": "code",
   "execution_count": 4,
   "metadata": {},
   "outputs": [],
   "source": [
    "#Take a random sample of conversations\n",
    "\n",
    "sample_size = 30000\n",
    "\n",
    "indices = random.sample(range(len(conversation)), sample_size)\n",
    "\n",
    "conv_sample = []\n",
    "\n",
    "for i in indices:\n",
    "    conv = conversation[i]\n",
    "    conv_sample.append(conv)\n"
   ]
  },
  {
   "cell_type": "code",
   "execution_count": 5,
   "metadata": {},
   "outputs": [],
   "source": [
    "# Sort the sentences into questions (inputs) and answers (targets)\n",
    "questions = []\n",
    "answers = []\n",
    "\n",
    "for conv in conv_sample:\n",
    "    for i in range(len(conv)-1):\n",
    "        questions.append(conv[i])\n",
    "        answers.append(conv[i+1])"
   ]
  },
  {
   "cell_type": "code",
   "execution_count": 6,
   "metadata": {},
   "outputs": [],
   "source": [
    "def clean_text(text):\n",
    "    '''Clean text by removing unnecessary characters and altering the format of words.'''\n",
    "    text = text.lower()\n",
    "    text = re.sub(r\"i'm\", \"i am\", text)\n",
    "    text = re.sub(r\"he's\", \"he is\", text)\n",
    "    text = re.sub(r\"she's\", \"she is\", text)\n",
    "    text = re.sub(r\"it's\", \"it is\", text)\n",
    "    text = re.sub(r\"that's\", \"that is\", text)\n",
    "    text = re.sub(r\"what's\", \"that is\", text)\n",
    "    text = re.sub(r\"where's\", \"where is\", text)\n",
    "    text = re.sub(r\"how's\", \"how is\", text)\n",
    "    text = re.sub(r\"\\'ll\", \" will\", text)\n",
    "    text = re.sub(r\"\\'ve\", \" have\", text)\n",
    "    text = re.sub(r\"\\'re\", \" are\", text)\n",
    "    text = re.sub(r\"\\'d\", \" would\", text)\n",
    "    text = re.sub(r\"\\'re\", \" are\", text)\n",
    "    text = re.sub(r\"won't\", \"will not\", text)\n",
    "    text = re.sub(r\"can't\", \"cannot\", text)\n",
    "    text = re.sub(r\"n't\", \" not\", text)\n",
    "    text = re.sub(r\"n'\", \"ng\", text)\n",
    "    text = re.sub(r\"'bout\", \"about\", text)\n",
    "    text = re.sub(r\"'til\", \"until\", text)\n",
    "    text = re.sub(r\"[-()\\\"#/@;:<>{}`+=~|.!?,]\", \"\", text)\n",
    "    text = re.sub(r\"  \", \" \", text)\n",
    "    return text"
   ]
  },
  {
   "cell_type": "code",
   "execution_count": 7,
   "metadata": {},
   "outputs": [],
   "source": [
    "# Clean the data\n",
    "clean_questions = []\n",
    "for question in questions:\n",
    "    clean_questions.append(clean_text(question))\n",
    "    \n",
    "clean_answers = []    \n",
    "for answer in answers:\n",
    "    clean_answers.append(clean_text(answer))"
   ]
  },
  {
   "cell_type": "code",
   "execution_count": 8,
   "metadata": {},
   "outputs": [],
   "source": [
    "# Filter out the questions that are too short/long\n",
    "short_questions_temp = []\n",
    "short_answers_temp = []\n",
    "\n",
    "i = 0\n",
    "for question in clean_questions:\n",
    "    if len(question.split()) >= min_line_length and len(question.split()) <= max_line_length:\n",
    "        short_questions_temp.append(question)\n",
    "        short_answers_temp.append(clean_answers[i])\n",
    "    i += 1\n",
    "\n",
    "# Filter out the answers that are too short/long\n",
    "short_questions = []\n",
    "short_answers = []\n",
    "\n",
    "i = 0\n",
    "for answer in short_answers_temp:\n",
    "    if len(answer.split()) >= min_line_length and len(answer.split()) <= max_line_length:\n",
    "        short_answers.append(answer)\n",
    "        short_questions.append(short_questions_temp[i])\n",
    "    i += 1"
   ]
  },
  {
   "cell_type": "code",
   "execution_count": 9,
   "metadata": {},
   "outputs": [
    {
     "name": "stdout",
     "output_type": "stream",
     "text": [
      "# of questions: 41389\n",
      "# of answers: 41389\n",
      "% of data used: 51.980000000000004%\n"
     ]
    }
   ],
   "source": [
    "# Compare the number of lines we will use with the total number of lines.\n",
    "print(\"# of questions:\", len(short_questions))\n",
    "print(\"# of answers:\", len(short_answers))\n",
    "print(\"% of data used: {}%\".format(round(len(short_questions)/len(questions),4)*100))"
   ]
  },
  {
   "cell_type": "code",
   "execution_count": 10,
   "metadata": {},
   "outputs": [
    {
     "name": "stdout",
     "output_type": "stream",
     "text": [
      "VOCAB SIZE : 19461\n"
     ]
    }
   ],
   "source": [
    "tokenizer = preprocessing.text.Tokenizer()\n",
    "tokenizer.fit_on_texts( short_questions + short_answers )\n",
    "VOCAB_SIZE = len( tokenizer.word_index )+1\n",
    "print( 'VOCAB SIZE : {}'.format( VOCAB_SIZE ))"
   ]
  },
  {
   "cell_type": "code",
   "execution_count": 11,
   "metadata": {},
   "outputs": [
    {
     "name": "stdout",
     "output_type": "stream",
     "text": [
      "final number of samples: 27750\n"
     ]
    }
   ],
   "source": [
    "def trim_rare_words(word_counts, list_of_questions, list_of_answers, min_word_freq=1):\n",
    "    \"\"\"\n",
    "    take a dict of word wounts, a list of questions and a list of answers \n",
    "    and return these lists without those that have rare words. \n",
    "    Optional argument sets the minimum frequency of the rare words. \n",
    "    \"\"\"\n",
    "    keep_words = {}\n",
    "    for key, value in word_counts:\n",
    "        if value > min_word_freq:\n",
    "            keep_words[key] = value\n",
    "    \n",
    "    keep_questions_indeces = []\n",
    "    for i, question in enumerate(list_of_questions):\n",
    "        q_words = question.split(' ')\n",
    "        if all(word in keep_words.keys() for word in q_words):\n",
    "            keep_questions_indeces.append(i)\n",
    "    keep_answer_indeces = []\n",
    "    for i, answer in enumerate(list_of_answers):\n",
    "        a_words = answer.split(' ')\n",
    "        if all(word in keep_words.keys() for word in a_words):\n",
    "            keep_answer_indeces.append(i)\n",
    "    \n",
    "    total_keep = set(keep_questions_indeces).intersection(keep_answer_indeces)\n",
    "    \n",
    "    keep_questions = [question for i, question in enumerate(list_of_questions) if i in total_keep ]\n",
    "    keep_answers = [answer for i, answer in enumerate(list_of_answers) if i in total_keep ]\n",
    "    \n",
    "    \n",
    "    return keep_questions, keep_answers\n",
    "\n",
    "k_questions, k_answers = trim_rare_words(tokenizer.word_counts.items(), short_questions, short_answers, 2)  \n",
    "\n",
    "print('final number of samples: {}'.format(len(k_questions)))"
   ]
  },
  {
   "cell_type": "code",
   "execution_count": 12,
   "metadata": {},
   "outputs": [],
   "source": [
    "def tagger(decoder_input_sentence):\n",
    "    bos = \"<BOS> \"\n",
    "    eos = \" <EOS>\"\n",
    "    final_target = [bos + text + eos for text in decoder_input_sentence] \n",
    "    return final_target\n",
    "\n",
    "tagged_answers = tagger(k_answers)"
   ]
  },
  {
   "cell_type": "code",
   "execution_count": 13,
   "metadata": {},
   "outputs": [
    {
     "name": "stdout",
     "output_type": "stream",
     "text": [
      "New VOCAB SIZE : 7036\n"
     ]
    }
   ],
   "source": [
    "tokenizer = preprocessing.text.Tokenizer()\n",
    "tokenizer.fit_on_texts( k_questions + tagged_answers )\n",
    "VOCAB_SIZE = len( tokenizer.word_index )+1\n",
    "print( 'New VOCAB SIZE : {}'.format( VOCAB_SIZE ))"
   ]
  },
  {
   "cell_type": "code",
   "execution_count": 14,
   "metadata": {},
   "outputs": [
    {
     "name": "stdout",
     "output_type": "stream",
     "text": [
      "(27750, 12) 12\n",
      "(27750, 14) 14\n",
      "(27750, 14, 7036)\n"
     ]
    }
   ],
   "source": [
    "# transform text to tokenized padded sequences, for the encoder and decoder inputs\n",
    "\n",
    "# encoder_input_data\n",
    "tokenized_questions = tokenizer.texts_to_sequences( k_questions )\n",
    "maxlen_questions = max( [ len(x) for x in tokenized_questions ] )\n",
    "padded_questions = preprocessing.sequence.pad_sequences( tokenized_questions , maxlen=maxlen_questions , padding='post' )\n",
    "encoder_input_data = np.array( padded_questions )\n",
    "print( encoder_input_data.shape , maxlen_questions )\n",
    "\n",
    "# decoder_input_data\n",
    "tokenized_answers = tokenizer.texts_to_sequences( tagged_answers )\n",
    "maxlen_answers = max( [ len(x) for x in tokenized_answers ] )\n",
    "padded_answers = preprocessing.sequence.pad_sequences( tokenized_answers , maxlen=maxlen_answers , padding='post' )\n",
    "decoder_input_data = np.array( padded_answers )\n",
    "print( decoder_input_data.shape , maxlen_answers )\n",
    "\n",
    "# Do the same but with one-hot-encoding for the decoder outputs. \n",
    "\n",
    "# decoder_output_data\n",
    "tokenized_answers = tokenizer.texts_to_sequences( tagged_answers )\n",
    "for i in range(len(tokenized_answers)) :\n",
    "    tokenized_answers[i] = tokenized_answers[i][1:]\n",
    "padded_answers = preprocessing.sequence.pad_sequences( tokenized_answers , maxlen=maxlen_answers , padding='post' )\n",
    "onehot_answers = utils.to_categorical( padded_answers , VOCAB_SIZE )\n",
    "decoder_output_data = np.array( onehot_answers )\n",
    "print( decoder_output_data.shape )\n",
    "\n",
    "# Saving all the arrays to storage\n",
    "#np.save( 'enc_in_data.npy' , encoder_input_data )\n",
    "#np.save( 'dec_in_data.npy' , decoder_input_data )\n",
    "#np.save( 'dec_tar_data.npy' , decoder_output_data )"
   ]
  },
  {
   "cell_type": "code",
   "execution_count": 15,
   "metadata": {},
   "outputs": [
    {
     "name": "stdout",
     "output_type": "stream",
     "text": [
      "WARNING:tensorflow:From C:\\Users\\georg\\Anaconda3\\lib\\site-packages\\tensorflow_core\\python\\keras\\initializers.py:119: calling RandomUniform.__init__ (from tensorflow.python.ops.init_ops) with dtype is deprecated and will be removed in a future version.\n",
      "Instructions for updating:\n",
      "Call initializer instance with the dtype argument instead of passing it to the constructor\n",
      "WARNING:tensorflow:From C:\\Users\\georg\\Anaconda3\\lib\\site-packages\\tensorflow_core\\python\\ops\\resource_variable_ops.py:1630: calling BaseResourceVariable.__init__ (from tensorflow.python.ops.resource_variable_ops) with constraint is deprecated and will be removed in a future version.\n",
      "Instructions for updating:\n",
      "If using Keras pass *_constraint arguments to layers.\n",
      "WARNING:tensorflow:From C:\\Users\\georg\\Anaconda3\\lib\\site-packages\\tensorflow_core\\python\\keras\\backend.py:3994: where (from tensorflow.python.ops.array_ops) is deprecated and will be removed in a future version.\n",
      "Instructions for updating:\n",
      "Use tf.where in 2.0, which has the same broadcast rule as np.where\n",
      "Model: \"model\"\n",
      "__________________________________________________________________________________________________\n",
      "Layer (type)                    Output Shape         Param #     Connected to                     \n",
      "==================================================================================================\n",
      "input_1 (InputLayer)            [(None, None)]       0                                            \n",
      "__________________________________________________________________________________________________\n",
      "input_2 (InputLayer)            [(None, None)]       0                                            \n",
      "__________________________________________________________________________________________________\n",
      "embedding (Embedding)           (None, None, 200)    1407200     input_1[0][0]                    \n",
      "__________________________________________________________________________________________________\n",
      "embedding_1 (Embedding)         (None, None, 200)    1407200     input_2[0][0]                    \n",
      "__________________________________________________________________________________________________\n",
      "lstm (LSTM)                     [(None, 200), (None, 320800      embedding[0][0]                  \n",
      "__________________________________________________________________________________________________\n",
      "lstm_1 (LSTM)                   [(None, None, 200),  320800      embedding_1[0][0]                \n",
      "                                                                 lstm[0][1]                       \n",
      "                                                                 lstm[0][2]                       \n",
      "__________________________________________________________________________________________________\n",
      "dense (Dense)                   (None, None, 7036)   1414236     lstm_1[0][0]                     \n",
      "==================================================================================================\n",
      "Total params: 4,870,236\n",
      "Trainable params: 4,870,236\n",
      "Non-trainable params: 0\n",
      "__________________________________________________________________________________________________\n"
     ]
    }
   ],
   "source": [
    "# The encoding layer of the model\n",
    "\n",
    "encoder_inputs = tf.keras.layers.Input(shape=( None , ))\n",
    "encoder_embedding = tf.keras.layers.Embedding( VOCAB_SIZE, 200 , mask_zero=True ) (encoder_inputs)\n",
    "encoder_outputs , state_h , state_c = tf.keras.layers.LSTM( 200 , return_state=True )( encoder_embedding )\n",
    "encoder_states = [ state_h , state_c ]\n",
    "\n",
    "# The decoding layer, initialised with the encoder's output state\n",
    "decoder_inputs = tf.keras.layers.Input(shape=( None ,  ))\n",
    "decoder_embedding = tf.keras.layers.Embedding( VOCAB_SIZE, 200 , mask_zero=True) (decoder_inputs)\n",
    "decoder_lstm = tf.keras.layers.LSTM( 200 , return_state=True , return_sequences=True )\n",
    "decoder_outputs , _ , _ = decoder_lstm ( decoder_embedding , initial_state=encoder_states )\n",
    "\n",
    "# A dense output layer, with a softmax activation\n",
    "decoder_dense = tf.keras.layers.Dense( VOCAB_SIZE , activation=tf.keras.activations.softmax ) \n",
    "output = decoder_dense ( decoder_outputs )\n",
    "\n",
    "# Compile the model using the RMSprop Optimiser\n",
    "model = tf.keras.models.Model([encoder_inputs, decoder_inputs], output )\n",
    "model.compile(optimizer=tf.keras.optimizers.RMSprop(), loss='categorical_crossentropy', metrics=['accuracy'])\n",
    "\n",
    "model.summary()"
   ]
  },
  {
   "cell_type": "code",
   "execution_count": 16,
   "metadata": {},
   "outputs": [
    {
     "name": "stdout",
     "output_type": "stream",
     "text": [
      "Train on 22200 samples, validate on 5550 samples\n",
      "Epoch 1/45\n",
      "22200/22200 [==============================] - 123s 6ms/sample - loss: 2.4952 - acc: 0.2612 - val_loss: 2.2437 - val_acc: 0.3107\n",
      "Epoch 2/45\n",
      "22200/22200 [==============================] - 113s 5ms/sample - loss: 2.1716 - acc: 0.3209 - val_loss: 2.1233 - val_acc: 0.3344\n",
      "Epoch 3/45\n",
      "22200/22200 [==============================] - 114s 5ms/sample - loss: 2.0602 - acc: 0.3449 - val_loss: 2.0514 - val_acc: 0.3522\n",
      "Epoch 4/45\n",
      "22200/22200 [==============================] - 114s 5ms/sample - loss: 1.9910 - acc: 0.3581 - val_loss: 2.0145 - val_acc: 0.3587\n",
      "Epoch 5/45\n",
      "22200/22200 [==============================] - 114s 5ms/sample - loss: 1.9421 - acc: 0.3640 - val_loss: 1.9934 - val_acc: 0.3631\n",
      "Epoch 6/45\n",
      "22200/22200 [==============================] - 116s 5ms/sample - loss: 1.9037 - acc: 0.3704 - val_loss: 1.9795 - val_acc: 0.3660\n",
      "Epoch 7/45\n",
      "22200/22200 [==============================] - 113s 5ms/sample - loss: 1.8705 - acc: 0.3750 - val_loss: 1.9746 - val_acc: 0.3679\n",
      "Epoch 8/45\n",
      "22200/22200 [==============================] - 113s 5ms/sample - loss: 1.8399 - acc: 0.3792 - val_loss: 1.9648 - val_acc: 0.3673\n",
      "Epoch 9/45\n",
      "22200/22200 [==============================] - 113s 5ms/sample - loss: 1.8125 - acc: 0.3842 - val_loss: 1.9637 - val_acc: 0.3695\n",
      "Epoch 10/45\n",
      "22200/22200 [==============================] - 113s 5ms/sample - loss: 1.7858 - acc: 0.3884 - val_loss: 1.9617 - val_acc: 0.3682\n",
      "Epoch 11/45\n",
      "22200/22200 [==============================] - 113s 5ms/sample - loss: 1.7599 - acc: 0.3929 - val_loss: 1.9637 - val_acc: 0.3670\n",
      "Epoch 12/45\n",
      "22200/22200 [==============================] - 115s 5ms/sample - loss: 1.7336 - acc: 0.3977 - val_loss: 1.9687 - val_acc: 0.3675\n",
      "Epoch 13/45\n",
      "22200/22200 [==============================] - 114s 5ms/sample - loss: 1.7066 - acc: 0.4019 - val_loss: 1.9718 - val_acc: 0.3687\n",
      "Epoch 14/45\n",
      "22200/22200 [==============================] - 113s 5ms/sample - loss: 1.6801 - acc: 0.4081 - val_loss: 1.9810 - val_acc: 0.3628\n",
      "Epoch 15/45\n",
      "22200/22200 [==============================] - 116s 5ms/sample - loss: 1.6537 - acc: 0.4134 - val_loss: 1.9892 - val_acc: 0.3659\n",
      "Epoch 16/45\n",
      "22200/22200 [==============================] - 114s 5ms/sample - loss: 1.6274 - acc: 0.4187 - val_loss: 2.0007 - val_acc: 0.3653\n",
      "Epoch 17/45\n",
      "22200/22200 [==============================] - 113s 5ms/sample - loss: 1.6010 - acc: 0.4250 - val_loss: 2.0098 - val_acc: 0.3632\n",
      "Epoch 18/45\n",
      "22200/22200 [==============================] - 113s 5ms/sample - loss: 1.5745 - acc: 0.4315 - val_loss: 2.0260 - val_acc: 0.3573\n",
      "Epoch 19/45\n",
      "22200/22200 [==============================] - 113s 5ms/sample - loss: 1.5483 - acc: 0.4388 - val_loss: 2.0383 - val_acc: 0.3569\n",
      "Epoch 20/45\n",
      "22200/22200 [==============================] - 113s 5ms/sample - loss: 1.5217 - acc: 0.4451 - val_loss: 2.0525 - val_acc: 0.3541\n",
      "Epoch 21/45\n",
      "22200/22200 [==============================] - 113s 5ms/sample - loss: 1.4948 - acc: 0.4521 - val_loss: 2.0648 - val_acc: 0.3534\n",
      "Epoch 22/45\n",
      "22200/22200 [==============================] - 113s 5ms/sample - loss: 1.4682 - acc: 0.4601 - val_loss: 2.0897 - val_acc: 0.3500\n",
      "Epoch 23/45\n",
      "22200/22200 [==============================] - 115s 5ms/sample - loss: 1.4413 - acc: 0.4687 - val_loss: 2.0996 - val_acc: 0.3471\n",
      "Epoch 24/45\n",
      "22200/22200 [==============================] - 114s 5ms/sample - loss: 1.4155 - acc: 0.4762 - val_loss: 2.1223 - val_acc: 0.3425\n",
      "Epoch 25/45\n",
      "22200/22200 [==============================] - 112s 5ms/sample - loss: 1.3885 - acc: 0.4843 - val_loss: 2.1401 - val_acc: 0.3367\n",
      "Epoch 26/45\n",
      "22200/22200 [==============================] - 112s 5ms/sample - loss: 1.3619 - acc: 0.4930 - val_loss: 2.1579 - val_acc: 0.3380\n",
      "Epoch 27/45\n",
      "22200/22200 [==============================] - 112s 5ms/sample - loss: 1.3347 - acc: 0.5018 - val_loss: 2.1813 - val_acc: 0.3318\n",
      "Epoch 28/45\n",
      "22200/22200 [==============================] - 112s 5ms/sample - loss: 1.3078 - acc: 0.5104 - val_loss: 2.1984 - val_acc: 0.3301\n",
      "Epoch 29/45\n",
      "22200/22200 [==============================] - 112s 5ms/sample - loss: 1.2815 - acc: 0.5201 - val_loss: 2.2180 - val_acc: 0.3351\n",
      "Epoch 30/45\n",
      "22200/22200 [==============================] - 112s 5ms/sample - loss: 1.2561 - acc: 0.5283 - val_loss: 2.2373 - val_acc: 0.3288\n",
      "Epoch 31/45\n",
      "22200/22200 [==============================] - 112s 5ms/sample - loss: 1.2305 - acc: 0.5384 - val_loss: 2.2681 - val_acc: 0.3263\n",
      "Epoch 32/45\n",
      "22200/22200 [==============================] - 112s 5ms/sample - loss: 1.2059 - acc: 0.5468 - val_loss: 2.2910 - val_acc: 0.3242\n",
      "Epoch 33/45\n",
      "22200/22200 [==============================] - 112s 5ms/sample - loss: 1.1817 - acc: 0.5568 - val_loss: 2.3082 - val_acc: 0.3258\n",
      "Epoch 34/45\n",
      "22200/22200 [==============================] - 113s 5ms/sample - loss: 1.1572 - acc: 0.5663 - val_loss: 2.3309 - val_acc: 0.3241\n",
      "Epoch 35/45\n",
      "22200/22200 [==============================] - 115s 5ms/sample - loss: 1.1343 - acc: 0.5756 - val_loss: 2.3614 - val_acc: 0.3159\n",
      "Epoch 36/45\n",
      "22200/22200 [==============================] - 114s 5ms/sample - loss: 1.1110 - acc: 0.5846 - val_loss: 2.3901 - val_acc: 0.3164\n",
      "Epoch 37/45\n",
      "22200/22200 [==============================] - 113s 5ms/sample - loss: 1.0871 - acc: 0.5938 - val_loss: 2.4007 - val_acc: 0.3123\n",
      "Epoch 38/45\n",
      "22200/22200 [==============================] - 112s 5ms/sample - loss: 1.0643 - acc: 0.6032 - val_loss: 2.4242 - val_acc: 0.3138\n",
      "Epoch 39/45\n",
      "22200/22200 [==============================] - 113s 5ms/sample - loss: 1.0417 - acc: 0.6132 - val_loss: 2.4486 - val_acc: 0.3129\n",
      "Epoch 40/45\n",
      "22200/22200 [==============================] - 113s 5ms/sample - loss: 1.0208 - acc: 0.6219 - val_loss: 2.4723 - val_acc: 0.3120\n",
      "Epoch 41/45\n",
      "22200/22200 [==============================] - 113s 5ms/sample - loss: 0.9989 - acc: 0.6310 - val_loss: 2.4924 - val_acc: 0.3093\n",
      "Epoch 42/45\n",
      "22200/22200 [==============================] - 113s 5ms/sample - loss: 0.9766 - acc: 0.6405 - val_loss: 2.5229 - val_acc: 0.3098\n",
      "Epoch 43/45\n",
      "22200/22200 [==============================] - 115s 5ms/sample - loss: 0.9572 - acc: 0.6483 - val_loss: 2.5392 - val_acc: 0.3066\n",
      "Epoch 44/45\n",
      "22200/22200 [==============================] - 114s 5ms/sample - loss: 0.9375 - acc: 0.6568 - val_loss: 2.5642 - val_acc: 0.3041\n",
      "Epoch 45/45\n",
      "22200/22200 [==============================] - 112s 5ms/sample - loss: 0.9193 - acc: 0.6654 - val_loss: 2.5922 - val_acc: 0.3015\n",
      "Wall time: 1h 25min 7s\n"
     ]
    }
   ],
   "source": [
    "%%time\n",
    "batch_size = 100\n",
    "epochs = 45\n",
    "\n",
    "history = model.fit([encoder_input_data, decoder_input_data],decoder_output_data,\n",
    "                    batch_size=batch_size,\n",
    "                    epochs=epochs,\n",
    "                    verbose=1,\n",
    "                    validation_split=0.2)"
   ]
  },
  {
   "cell_type": "code",
   "execution_count": 17,
   "metadata": {},
   "outputs": [
    {
     "name": "stdout",
     "output_type": "stream",
     "text": [
      "Saved model to disk\n"
     ]
    }
   ],
   "source": [
    "model_json = model.to_json()\n",
    "with open(\"LARGE_s2s_model_keras.json\", \"w\") as json_file:\n",
    "    json_file.write(model_json)\n",
    "# serialize weights to HDF5\n",
    "model.save_weights(\"LARGE_s2s_model_keras_weights.h5\")\n",
    "print(\"Saved model to disk\")"
   ]
  },
  {
   "cell_type": "code",
   "execution_count": 18,
   "metadata": {},
   "outputs": [],
   "source": [
    "model.load_weights('LARGE_s2s_model_keras_weights.h5')"
   ]
  },
  {
   "cell_type": "code",
   "execution_count": 18,
   "metadata": {},
   "outputs": [],
   "source": [
    "# In order to make inference, we need to tweek the process a bit. \n",
    "# We initialise the encoder's and decoder's states using the trained model.\n",
    "\n",
    "def make_inference_models():\n",
    "    \n",
    "    encoder_model = tf.keras.models.Model(encoder_inputs, encoder_states)\n",
    "    \n",
    "    decoder_state_input_h = tf.keras.layers.Input(shape=( 200 ,))\n",
    "    decoder_state_input_c = tf.keras.layers.Input(shape=( 200 ,))\n",
    "    \n",
    "    decoder_states_inputs = [decoder_state_input_h, decoder_state_input_c]\n",
    "    \n",
    "    decoder_outputs, state_h, state_c = decoder_lstm(\n",
    "        decoder_embedding , initial_state=decoder_states_inputs)\n",
    "    decoder_states = [state_h, state_c]\n",
    "    decoder_outputs = decoder_dense(decoder_outputs)\n",
    "    decoder_model = tf.keras.models.Model(\n",
    "        [decoder_inputs] + decoder_states_inputs,\n",
    "        [decoder_outputs] + decoder_states)\n",
    "    \n",
    "    return encoder_model , decoder_model"
   ]
  },
  {
   "cell_type": "code",
   "execution_count": 19,
   "metadata": {},
   "outputs": [],
   "source": [
    "def str_to_tokens( sentence : str ):\n",
    "    words = sentence.lower().split()\n",
    "    tokens_list = list()\n",
    "    for word in words:\n",
    "        tokens_list.append( tokenizer.word_index[ word ] ) \n",
    "    return preprocessing.sequence.pad_sequences( [tokens_list] , maxlen=maxlen_questions , padding='post')"
   ]
  },
  {
   "cell_type": "code",
   "execution_count": 20,
   "metadata": {},
   "outputs": [
    {
     "name": "stdout",
     "output_type": "stream",
     "text": [
      "Enter question : hello\n",
      " hello eos\n",
      "Enter question : how are you\n",
      " i am i am fine eos\n",
      "Enter question : what do you like\n",
      " i am not like a friend eos\n",
      "Enter question : who is your friend\n",
      " i am not gonna marry you my take a walk eos\n",
      "Enter question : i will leave you alone\n",
      " when you were in eos\n",
      "Enter question : just now\n",
      " i know eos\n",
      "Enter question : what else do you know\n",
      " i know it is not to but eos\n",
      "Enter question : but what\n",
      " i have got a walk with you eos\n",
      "Enter question : when\n",
      " tomorrow night there's no no of course eos\n",
      "Enter question : of course\n",
      " well it is a long time eos\n"
     ]
    }
   ],
   "source": [
    "enc_model , dec_model = make_inference_models()\n",
    "\n",
    "for _ in range(10):\n",
    "    states_values = enc_model.predict( str_to_tokens( input( 'Enter question : ' ) ) )\n",
    "    empty_target_seq = np.zeros( ( 1 , 1 ) )\n",
    "    empty_target_seq[0, 0] = tokenizer.word_index['bos']\n",
    "    stop_condition = False\n",
    "    decoded_translation = ''\n",
    "    while not stop_condition :\n",
    "        dec_outputs , h , c = dec_model.predict([ empty_target_seq ] + states_values )\n",
    "        sampled_word_index = np.argmax( dec_outputs[0, -1, :] )\n",
    "        sampled_word = None\n",
    "        for word , index in tokenizer.word_index.items() :\n",
    "            if sampled_word_index == index :\n",
    "                decoded_translation += ' {}'.format( word )\n",
    "                sampled_word = word\n",
    "        \n",
    "        if sampled_word == 'eos' or len(decoded_translation.split()) > maxlen_answers:\n",
    "            stop_condition = True\n",
    "            \n",
    "        empty_target_seq = np.zeros( ( 1 , 1 ) )  \n",
    "        empty_target_seq[ 0 , 0 ] = sampled_word_index\n",
    "        states_values = [ h , c ] \n",
    "\n",
    "    print( decoded_translation )\n"
   ]
  },
  {
   "cell_type": "code",
   "execution_count": null,
   "metadata": {},
   "outputs": [],
   "source": []
  }
 ],
 "metadata": {
  "kernelspec": {
   "display_name": "Python 3",
   "language": "python",
   "name": "python3"
  },
  "language_info": {
   "codemirror_mode": {
    "name": "ipython",
    "version": 3
   },
   "file_extension": ".py",
   "mimetype": "text/x-python",
   "name": "python",
   "nbconvert_exporter": "python",
   "pygments_lexer": "ipython3",
   "version": "3.6.10"
  }
 },
 "nbformat": 4,
 "nbformat_minor": 2
}
