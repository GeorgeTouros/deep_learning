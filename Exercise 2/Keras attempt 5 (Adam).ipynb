{
 "cells": [
  {
   "cell_type": "code",
   "execution_count": 1,
   "metadata": {},
   "outputs": [],
   "source": [
    "import numpy as np\n",
    "import tensorflow as tf\n",
    "import pandas\n",
    "import pickle as pkl\n",
    "from tensorflow.keras import layers , activations , models , preprocessing, utils\n",
    "import random\n",
    "random.seed(2020)\n",
    "import re"
   ]
  },
  {
   "cell_type": "code",
   "execution_count": 2,
   "metadata": {},
   "outputs": [],
   "source": [
    "min_line_length = 1\n",
    "max_line_length = 12\n",
    "HIDDEN_DIM=400"
   ]
  },
  {
   "cell_type": "code",
   "execution_count": 3,
   "metadata": {},
   "outputs": [],
   "source": [
    "with open(r\"data\\conversations.pkl\", \"rb\") as handle:\n",
    "    conversation = pkl.load(handle)"
   ]
  },
  {
   "cell_type": "code",
   "execution_count": 4,
   "metadata": {},
   "outputs": [],
   "source": [
    "#Take a random sample of conversations\n",
    "\n",
    "sample_size = 30000\n",
    "\n",
    "indices = random.sample(range(len(conversation)), sample_size)\n",
    "\n",
    "conv_sample = []\n",
    "\n",
    "for i in indices:\n",
    "    conv = conversation[i]\n",
    "    conv_sample.append(conv)\n"
   ]
  },
  {
   "cell_type": "code",
   "execution_count": 5,
   "metadata": {},
   "outputs": [],
   "source": [
    "# Sort the sentences into questions (inputs) and answers (targets)\n",
    "questions = []\n",
    "answers = []\n",
    "\n",
    "for conv in conv_sample:\n",
    "    for i in range(len(conv)-1):\n",
    "        questions.append(conv[i])\n",
    "        answers.append(conv[i+1])"
   ]
  },
  {
   "cell_type": "code",
   "execution_count": 6,
   "metadata": {},
   "outputs": [],
   "source": [
    "def clean_text(text):\n",
    "    '''Clean text by removing unnecessary characters and altering the format of words.'''\n",
    "    text = text.lower()\n",
    "    text = re.sub(r\"i'm\", \"i am\", text)\n",
    "    text = re.sub(r\"he's\", \"he is\", text)\n",
    "    text = re.sub(r\"she's\", \"she is\", text)\n",
    "    text = re.sub(r\"it's\", \"it is\", text)\n",
    "    text = re.sub(r\"that's\", \"that is\", text)\n",
    "    text = re.sub(r\"what's\", \"that is\", text)\n",
    "    text = re.sub(r\"where's\", \"where is\", text)\n",
    "    text = re.sub(r\"how's\", \"how is\", text)\n",
    "    text = re.sub(r\"\\'ll\", \" will\", text)\n",
    "    text = re.sub(r\"\\'ve\", \" have\", text)\n",
    "    text = re.sub(r\"\\'re\", \" are\", text)\n",
    "    text = re.sub(r\"\\'d\", \" would\", text)\n",
    "    text = re.sub(r\"\\'re\", \" are\", text)\n",
    "    text = re.sub(r\"won't\", \"will not\", text)\n",
    "    text = re.sub(r\"can't\", \"cannot\", text)\n",
    "    text = re.sub(r\"n't\", \" not\", text)\n",
    "    text = re.sub(r\"n'\", \"ng\", text)\n",
    "    text = re.sub(r\"'bout\", \"about\", text)\n",
    "    text = re.sub(r\"'til\", \"until\", text)\n",
    "    text = re.sub(r\"[-()\\\"#/@;:<>{}`+=~|.!?,]\", \"\", text)\n",
    "    text = re.sub(r\"  \", \" \", text)\n",
    "    return text"
   ]
  },
  {
   "cell_type": "code",
   "execution_count": 7,
   "metadata": {},
   "outputs": [],
   "source": [
    "# Clean the data\n",
    "clean_questions = []\n",
    "for question in questions:\n",
    "    clean_questions.append(clean_text(question))\n",
    "    \n",
    "clean_answers = []    \n",
    "for answer in answers:\n",
    "    clean_answers.append(clean_text(answer))"
   ]
  },
  {
   "cell_type": "code",
   "execution_count": 8,
   "metadata": {},
   "outputs": [],
   "source": [
    "# Filter out the questions that are too short/long\n",
    "short_questions_temp = []\n",
    "short_answers_temp = []\n",
    "\n",
    "i = 0\n",
    "for question in clean_questions:\n",
    "    if len(question.split()) >= min_line_length and len(question.split()) <= max_line_length:\n",
    "        short_questions_temp.append(question)\n",
    "        short_answers_temp.append(clean_answers[i])\n",
    "    i += 1\n",
    "\n",
    "# Filter out the answers that are too short/long\n",
    "short_questions = []\n",
    "short_answers = []\n",
    "\n",
    "i = 0\n",
    "for answer in short_answers_temp:\n",
    "    if len(answer.split()) >= min_line_length and len(answer.split()) <= max_line_length:\n",
    "        short_answers.append(answer)\n",
    "        short_questions.append(short_questions_temp[i])\n",
    "    i += 1"
   ]
  },
  {
   "cell_type": "code",
   "execution_count": 9,
   "metadata": {},
   "outputs": [
    {
     "name": "stdout",
     "output_type": "stream",
     "text": [
      "# of questions: 41971\n",
      "# of answers: 41971\n",
      "% of data used: 52.449999999999996%\n"
     ]
    }
   ],
   "source": [
    "# Compare the number of lines we will use with the total number of lines.\n",
    "print(\"# of questions:\", len(short_questions))\n",
    "print(\"# of answers:\", len(short_answers))\n",
    "print(\"% of data used: {}%\".format(round(len(short_questions)/len(questions),4)*100))"
   ]
  },
  {
   "cell_type": "code",
   "execution_count": 10,
   "metadata": {},
   "outputs": [
    {
     "name": "stdout",
     "output_type": "stream",
     "text": [
      "VOCAB SIZE : 19633\n"
     ]
    }
   ],
   "source": [
    "tokenizer = preprocessing.text.Tokenizer()\n",
    "tokenizer.fit_on_texts( short_questions + short_answers )\n",
    "VOCAB_SIZE = len( tokenizer.word_index )+1\n",
    "print( 'VOCAB SIZE : {}'.format( VOCAB_SIZE ))"
   ]
  },
  {
   "cell_type": "code",
   "execution_count": 11,
   "metadata": {},
   "outputs": [
    {
     "name": "stdout",
     "output_type": "stream",
     "text": [
      "final number of samples: 28229\n"
     ]
    }
   ],
   "source": [
    "def trim_rare_words(word_counts, list_of_questions, list_of_answers, min_word_freq=1):\n",
    "    \"\"\"\n",
    "    take a dict of word wounts, a list of questions and a list of answers \n",
    "    and return these lists without those that have rare words. \n",
    "    Optional argument sets the minimum frequency of the rare words. \n",
    "    \"\"\"\n",
    "    keep_words = {}\n",
    "    for key, value in word_counts:\n",
    "        if value > min_word_freq:\n",
    "            keep_words[key] = value\n",
    "    \n",
    "    keep_questions_indeces = []\n",
    "    for i, question in enumerate(list_of_questions):\n",
    "        q_words = question.split(' ')\n",
    "        if all(word in keep_words.keys() for word in q_words):\n",
    "            keep_questions_indeces.append(i)\n",
    "    keep_answer_indeces = []\n",
    "    for i, answer in enumerate(list_of_answers):\n",
    "        a_words = answer.split(' ')\n",
    "        if all(word in keep_words.keys() for word in a_words):\n",
    "            keep_answer_indeces.append(i)\n",
    "    \n",
    "    total_keep = set(keep_questions_indeces).intersection(keep_answer_indeces)\n",
    "    \n",
    "    keep_questions = [question for i, question in enumerate(list_of_questions) if i in total_keep ]\n",
    "    keep_answers = [answer for i, answer in enumerate(list_of_answers) if i in total_keep ]\n",
    "    \n",
    "    \n",
    "    return keep_questions, keep_answers\n",
    "\n",
    "k_questions, k_answers = trim_rare_words(tokenizer.word_counts.items(), short_questions, short_answers, 2)  \n",
    "\n",
    "print('final number of samples: {}'.format(len(k_questions)))"
   ]
  },
  {
   "cell_type": "code",
   "execution_count": 12,
   "metadata": {},
   "outputs": [],
   "source": [
    "def tagger(decoder_input_sentence):\n",
    "    bos = \"<BOS> \"\n",
    "    eos = \" <EOS>\"\n",
    "    final_target = [bos + text + eos for text in decoder_input_sentence] \n",
    "    return final_target\n",
    "\n",
    "tagged_answers = tagger(k_answers)"
   ]
  },
  {
   "cell_type": "code",
   "execution_count": 13,
   "metadata": {},
   "outputs": [
    {
     "name": "stdout",
     "output_type": "stream",
     "text": [
      "New VOCAB SIZE : 7057\n"
     ]
    }
   ],
   "source": [
    "tokenizer = preprocessing.text.Tokenizer()\n",
    "tokenizer.fit_on_texts( k_questions + tagged_answers )\n",
    "VOCAB_SIZE = len( tokenizer.word_index )+1\n",
    "print( 'New VOCAB SIZE : {}'.format( VOCAB_SIZE ))"
   ]
  },
  {
   "cell_type": "code",
   "execution_count": 14,
   "metadata": {},
   "outputs": [
    {
     "name": "stdout",
     "output_type": "stream",
     "text": [
      "(28229, 12) 12\n",
      "(28229, 14) 14\n",
      "(28229, 14, 7057)\n"
     ]
    }
   ],
   "source": [
    "# transform text to tokenized padded sequences, for the encoder and decoder inputs\n",
    "\n",
    "# encoder_input_data\n",
    "tokenized_questions = tokenizer.texts_to_sequences( k_questions )\n",
    "maxlen_questions = max( [ len(x) for x in tokenized_questions ] )\n",
    "padded_questions = preprocessing.sequence.pad_sequences( tokenized_questions , maxlen=maxlen_questions , padding='post' )\n",
    "encoder_input_data = np.array( padded_questions )\n",
    "print( encoder_input_data.shape , maxlen_questions )\n",
    "\n",
    "# decoder_input_data\n",
    "tokenized_answers = tokenizer.texts_to_sequences( tagged_answers )\n",
    "maxlen_answers = max( [ len(x) for x in tokenized_answers ] )\n",
    "padded_answers = preprocessing.sequence.pad_sequences( tokenized_answers , maxlen=maxlen_answers , padding='post' )\n",
    "decoder_input_data = np.array( padded_answers )\n",
    "print( decoder_input_data.shape , maxlen_answers )\n",
    "\n",
    "# Do the same but with one-hot-encoding for the decoder outputs. \n",
    "\n",
    "# decoder_output_data\n",
    "tokenized_answers = tokenizer.texts_to_sequences( tagged_answers )\n",
    "for i in range(len(tokenized_answers)) :\n",
    "    tokenized_answers[i] = tokenized_answers[i][1:]\n",
    "padded_answers = preprocessing.sequence.pad_sequences( tokenized_answers , maxlen=maxlen_answers , padding='post' )\n",
    "onehot_answers = utils.to_categorical( padded_answers , VOCAB_SIZE )\n",
    "decoder_output_data = np.array( onehot_answers )\n",
    "print( decoder_output_data.shape )\n"
   ]
  },
  {
   "cell_type": "code",
   "execution_count": 15,
   "metadata": {},
   "outputs": [
    {
     "name": "stdout",
     "output_type": "stream",
     "text": [
      "WARNING:tensorflow:From C:\\Users\\georg\\Anaconda3\\lib\\site-packages\\tensorflow_core\\python\\keras\\initializers.py:119: calling RandomUniform.__init__ (from tensorflow.python.ops.init_ops) with dtype is deprecated and will be removed in a future version.\n",
      "Instructions for updating:\n",
      "Call initializer instance with the dtype argument instead of passing it to the constructor\n",
      "WARNING:tensorflow:From C:\\Users\\georg\\Anaconda3\\lib\\site-packages\\tensorflow_core\\python\\ops\\resource_variable_ops.py:1630: calling BaseResourceVariable.__init__ (from tensorflow.python.ops.resource_variable_ops) with constraint is deprecated and will be removed in a future version.\n",
      "Instructions for updating:\n",
      "If using Keras pass *_constraint arguments to layers.\n",
      "WARNING:tensorflow:From C:\\Users\\georg\\Anaconda3\\lib\\site-packages\\tensorflow_core\\python\\keras\\backend.py:3994: where (from tensorflow.python.ops.array_ops) is deprecated and will be removed in a future version.\n",
      "Instructions for updating:\n",
      "Use tf.where in 2.0, which has the same broadcast rule as np.where\n",
      "Model: \"model\"\n",
      "__________________________________________________________________________________________________\n",
      "Layer (type)                    Output Shape         Param #     Connected to                     \n",
      "==================================================================================================\n",
      "input_1 (InputLayer)            [(None, None)]       0                                            \n",
      "__________________________________________________________________________________________________\n",
      "input_2 (InputLayer)            [(None, None)]       0                                            \n",
      "__________________________________________________________________________________________________\n",
      "embedding (Embedding)           (None, None, 400)    2822800     input_1[0][0]                    \n",
      "__________________________________________________________________________________________________\n",
      "embedding_1 (Embedding)         (None, None, 400)    2822800     input_2[0][0]                    \n",
      "__________________________________________________________________________________________________\n",
      "lstm (LSTM)                     [(None, 400), (None, 1281600     embedding[0][0]                  \n",
      "__________________________________________________________________________________________________\n",
      "lstm_1 (LSTM)                   [(None, None, 400),  1281600     embedding_1[0][0]                \n",
      "                                                                 lstm[0][1]                       \n",
      "                                                                 lstm[0][2]                       \n",
      "__________________________________________________________________________________________________\n",
      "dense (Dense)                   (None, None, 7057)   2829857     lstm_1[0][0]                     \n",
      "==================================================================================================\n",
      "Total params: 11,038,657\n",
      "Trainable params: 11,038,657\n",
      "Non-trainable params: 0\n",
      "__________________________________________________________________________________________________\n"
     ]
    }
   ],
   "source": [
    "# The encoding layer of the model\n",
    "\n",
    "encoder_inputs = tf.keras.layers.Input(shape=( None , ))\n",
    "encoder_embedding = tf.keras.layers.Embedding( VOCAB_SIZE, HIDDEN_DIM , mask_zero=True ) (encoder_inputs)\n",
    "encoder_outputs , state_h , state_c = tf.keras.layers.LSTM( HIDDEN_DIM , return_state=True )( encoder_embedding )\n",
    "encoder_states = [ state_h , state_c ]\n",
    "\n",
    "# The decoding layer, initialised with the encoder's output state\n",
    "decoder_inputs = tf.keras.layers.Input(shape=( None ,  ))\n",
    "decoder_embedding = tf.keras.layers.Embedding( VOCAB_SIZE, HIDDEN_DIM , mask_zero=True) (decoder_inputs)\n",
    "decoder_lstm = tf.keras.layers.LSTM( HIDDEN_DIM , return_state=True , return_sequences=True )\n",
    "decoder_outputs , _ , _ = decoder_lstm ( decoder_embedding , initial_state=encoder_states )\n",
    "\n",
    "# A dense output layer, with a softmax activation\n",
    "decoder_dense = tf.keras.layers.Dense( VOCAB_SIZE , activation=tf.keras.activations.softmax ) \n",
    "output = decoder_dense ( decoder_outputs )\n",
    "\n",
    "# Compile the model using the RMSprop Optimiser\n",
    "model = tf.keras.models.Model([encoder_inputs, decoder_inputs], output )\n",
    "model.compile(optimizer=tf.keras.optimizers.Adam(), loss='categorical_crossentropy', metrics=['accuracy'])\n",
    "\n",
    "model.summary()"
   ]
  },
  {
   "cell_type": "code",
   "execution_count": 21,
   "metadata": {},
   "outputs": [
    {
     "name": "stdout",
     "output_type": "stream",
     "text": [
      "Train on 22583 samples, validate on 5646 samples\n",
      "Epoch 1/45\n",
      "22583/22583 [==============================] - 203s 9ms/sample - loss: 1.5502 - acc: 0.4133 - val_loss: 2.0126 - val_acc: 0.3660\n",
      "Epoch 2/45\n",
      "22583/22583 [==============================] - 203s 9ms/sample - loss: 1.4991 - acc: 0.4230 - val_loss: 2.0275 - val_acc: 0.3648\n",
      "Epoch 3/45\n",
      "22583/22583 [==============================] - 209s 9ms/sample - loss: 1.4469 - acc: 0.4345 - val_loss: 2.0486 - val_acc: 0.3627\n",
      "Epoch 4/45\n",
      "22583/22583 [==============================] - 209s 9ms/sample - loss: 1.3927 - acc: 0.4469 - val_loss: 2.0751 - val_acc: 0.3602\n",
      "Epoch 5/45\n",
      "22583/22583 [==============================] - 213s 9ms/sample - loss: 1.3374 - acc: 0.4625 - val_loss: 2.0985 - val_acc: 0.3590\n",
      "Epoch 6/45\n",
      "22583/22583 [==============================] - 214s 9ms/sample - loss: 1.2812 - acc: 0.4778 - val_loss: 2.1231 - val_acc: 0.3564\n",
      "Epoch 7/45\n",
      "22583/22583 [==============================] - 212s 9ms/sample - loss: 1.2247 - acc: 0.4965 - val_loss: 2.1518 - val_acc: 0.3535\n",
      "Epoch 8/45\n",
      "22583/22583 [==============================] - 217s 10ms/sample - loss: 1.1684 - acc: 0.5140 - val_loss: 2.1871 - val_acc: 0.3520\n",
      "Epoch 9/45\n",
      "22583/22583 [==============================] - 214s 9ms/sample - loss: 1.1111 - acc: 0.5333 - val_loss: 2.2172 - val_acc: 0.3467\n",
      "Epoch 10/45\n",
      "22583/22583 [==============================] - 214s 9ms/sample - loss: 1.0563 - acc: 0.5532 - val_loss: 2.2541 - val_acc: 0.3449\n",
      "Epoch 11/45\n",
      "22583/22583 [==============================] - 214s 9ms/sample - loss: 1.0020 - acc: 0.5738 - val_loss: 2.2934 - val_acc: 0.3446\n",
      "Epoch 12/45\n",
      "22583/22583 [==============================] - 216s 10ms/sample - loss: 0.9491 - acc: 0.5933 - val_loss: 2.3327 - val_acc: 0.3384\n",
      "Epoch 13/45\n",
      "22583/22583 [==============================] - 220s 10ms/sample - loss: 0.8977 - acc: 0.6133 - val_loss: 2.3656 - val_acc: 0.3381\n",
      "Epoch 14/45\n",
      "22583/22583 [==============================] - 218s 10ms/sample - loss: 0.8469 - acc: 0.6343 - val_loss: 2.4078 - val_acc: 0.3335\n",
      "Epoch 15/45\n",
      "22583/22583 [==============================] - 213s 9ms/sample - loss: 0.7991 - acc: 0.6547 - val_loss: 2.4365 - val_acc: 0.3313\n",
      "Epoch 16/45\n",
      "22583/22583 [==============================] - 215s 10ms/sample - loss: 0.7523 - acc: 0.6739 - val_loss: 2.4876 - val_acc: 0.3313\n",
      "Epoch 17/45\n",
      "22583/22583 [==============================] - 217s 10ms/sample - loss: 0.7075 - acc: 0.6930 - val_loss: 2.5214 - val_acc: 0.3279\n",
      "Epoch 18/45\n",
      "22583/22583 [==============================] - 217s 10ms/sample - loss: 0.6652 - acc: 0.7111 - val_loss: 2.5633 - val_acc: 0.3250\n",
      "Epoch 19/45\n",
      "22583/22583 [==============================] - 213s 9ms/sample - loss: 0.6244 - acc: 0.7296 - val_loss: 2.6134 - val_acc: 0.3263\n",
      "Epoch 20/45\n",
      "22583/22583 [==============================] - 214s 9ms/sample - loss: 0.5863 - acc: 0.7462 - val_loss: 2.6390 - val_acc: 0.3202\n",
      "Epoch 21/45\n",
      "22583/22583 [==============================] - 217s 10ms/sample - loss: 0.5489 - acc: 0.7646 - val_loss: 2.6762 - val_acc: 0.3189\n",
      "Epoch 22/45\n",
      "22583/22583 [==============================] - 218s 10ms/sample - loss: 0.5139 - acc: 0.7795 - val_loss: 2.7206 - val_acc: 0.3166\n",
      "Epoch 23/45\n",
      "22583/22583 [==============================] - 218s 10ms/sample - loss: 0.4808 - acc: 0.7945 - val_loss: 2.7590 - val_acc: 0.3179\n",
      "Epoch 24/45\n",
      "22583/22583 [==============================] - 214s 9ms/sample - loss: 0.4503 - acc: 0.8076 - val_loss: 2.7949 - val_acc: 0.3157\n",
      "Epoch 25/45\n",
      "22583/22583 [==============================] - 220s 10ms/sample - loss: 0.4215 - acc: 0.8214 - val_loss: 2.8346 - val_acc: 0.3134\n",
      "Epoch 26/45\n",
      "22583/22583 [==============================] - 217s 10ms/sample - loss: 0.3936 - acc: 0.8346 - val_loss: 2.8754 - val_acc: 0.3121\n",
      "Epoch 27/45\n",
      "22583/22583 [==============================] - 216s 10ms/sample - loss: 0.3674 - acc: 0.8466 - val_loss: 2.9130 - val_acc: 0.3098\n",
      "Epoch 28/45\n",
      "22583/22583 [==============================] - 219s 10ms/sample - loss: 0.3436 - acc: 0.8577 - val_loss: 2.9442 - val_acc: 0.3117\n",
      "Epoch 29/45\n",
      "22583/22583 [==============================] - 214s 9ms/sample - loss: 0.3210 - acc: 0.8673 - val_loss: 2.9814 - val_acc: 0.3113\n",
      "Epoch 30/45\n",
      "22583/22583 [==============================] - 221s 10ms/sample - loss: 0.3001 - acc: 0.8774 - val_loss: 3.0130 - val_acc: 0.3076\n",
      "Epoch 31/45\n",
      "22583/22583 [==============================] - 217s 10ms/sample - loss: 0.2807 - acc: 0.8863 - val_loss: 3.0420 - val_acc: 0.3111\n",
      "Epoch 32/45\n",
      "22583/22583 [==============================] - 213s 9ms/sample - loss: 0.2628 - acc: 0.8939 - val_loss: 3.0682 - val_acc: 0.3091\n",
      "Epoch 33/45\n",
      "22583/22583 [==============================] - 216s 10ms/sample - loss: 0.2447 - acc: 0.9015 - val_loss: 3.0911 - val_acc: 0.3056\n",
      "Epoch 34/45\n",
      "22583/22583 [==============================] - 216s 10ms/sample - loss: 0.2281 - acc: 0.9092 - val_loss: 3.1271 - val_acc: 0.3087\n",
      "Epoch 35/45\n",
      "22583/22583 [==============================] - 217s 10ms/sample - loss: 0.2133 - acc: 0.9157 - val_loss: 3.1592 - val_acc: 0.3031\n",
      "Epoch 36/45\n",
      "22583/22583 [==============================] - 215s 10ms/sample - loss: 0.2007 - acc: 0.9212 - val_loss: 3.1923 - val_acc: 0.3040\n",
      "Epoch 37/45\n",
      "22583/22583 [==============================] - 216s 10ms/sample - loss: 0.1871 - acc: 0.9270 - val_loss: 3.2146 - val_acc: 0.3049\n",
      "Epoch 38/45\n",
      "22583/22583 [==============================] - 219s 10ms/sample - loss: 0.1761 - acc: 0.9320 - val_loss: 3.2442 - val_acc: 0.3031\n",
      "Epoch 39/45\n",
      "22583/22583 [==============================] - 220s 10ms/sample - loss: 0.1661 - acc: 0.9362 - val_loss: 3.2641 - val_acc: 0.3037\n",
      "Epoch 40/45\n",
      "22583/22583 [==============================] - 214s 9ms/sample - loss: 0.1555 - acc: 0.9398 - val_loss: 3.2903 - val_acc: 0.3039\n",
      "Epoch 41/45\n",
      "22583/22583 [==============================] - 216s 10ms/sample - loss: 0.1477 - acc: 0.9428 - val_loss: 3.3210 - val_acc: 0.3045\n",
      "Epoch 42/45\n",
      "22583/22583 [==============================] - 214s 9ms/sample - loss: 0.1411 - acc: 0.9455 - val_loss: 3.3297 - val_acc: 0.3046\n",
      "Epoch 43/45\n",
      "22583/22583 [==============================] - 219s 10ms/sample - loss: 0.1324 - acc: 0.9491 - val_loss: 3.3526 - val_acc: 0.3055\n",
      "Epoch 44/45\n",
      "22583/22583 [==============================] - 217s 10ms/sample - loss: 0.1254 - acc: 0.9515 - val_loss: 3.3759 - val_acc: 0.3047\n",
      "Epoch 45/45\n",
      "22583/22583 [==============================] - 216s 10ms/sample - loss: 0.1189 - acc: 0.9539 - val_loss: 3.3953 - val_acc: 0.3028\n",
      "Wall time: 2h 41min 27s\n"
     ]
    }
   ],
   "source": [
    "%%time\n",
    "batch_size = 100\n",
    "epochs = 45\n",
    "\n",
    "history = model.fit([encoder_input_data, decoder_input_data],decoder_output_data,\n",
    "                    batch_size=batch_size,\n",
    "                    epochs=epochs,\n",
    "                    verbose=1,\n",
    "                    validation_split=0.2)"
   ]
  },
  {
   "cell_type": "code",
   "execution_count": 22,
   "metadata": {},
   "outputs": [
    {
     "name": "stdout",
     "output_type": "stream",
     "text": [
      "Saved model to disk\n"
     ]
    }
   ],
   "source": [
    "model_json = model.to_json()\n",
    "with open(\"ADAM_LSTM_D_s2s_model_keras.json\", \"w\") as json_file:\n",
    "    json_file.write(model_json)\n",
    "# serialize weights to HDF5\n",
    "model.save_weights(\"ADAM_LSTM_D_s2s_model_keras_weights.h5\")\n",
    "print(\"Saved model to disk\")"
   ]
  },
  {
   "cell_type": "code",
   "execution_count": 18,
   "metadata": {},
   "outputs": [],
   "source": [
    "#model.load_weights('LSTM_D_s2s_model_keras_weights.h5')"
   ]
  },
  {
   "cell_type": "code",
   "execution_count": 23,
   "metadata": {},
   "outputs": [],
   "source": [
    "# In order to make inference, we need to tweek the process a bit. \n",
    "# We initialise the encoder's and decoder's states using the trained model.\n",
    "\n",
    "def make_inference_models():\n",
    "    \n",
    "    encoder_model = tf.keras.models.Model(encoder_inputs, encoder_states)\n",
    "    \n",
    "    decoder_state_input_h = tf.keras.layers.Input(shape=( HIDDEN_DIM ,))\n",
    "    decoder_state_input_c = tf.keras.layers.Input(shape=( HIDDEN_DIM ,))\n",
    "    \n",
    "    decoder_states_inputs = [decoder_state_input_h, decoder_state_input_c]\n",
    "    \n",
    "    decoder_outputs, state_h, state_c = decoder_lstm(\n",
    "        decoder_embedding , initial_state=decoder_states_inputs)\n",
    "    decoder_states = [state_h, state_c]\n",
    "    decoder_outputs = decoder_dense(decoder_outputs)\n",
    "    decoder_model = tf.keras.models.Model(\n",
    "        [decoder_inputs] + decoder_states_inputs,\n",
    "        [decoder_outputs] + decoder_states)\n",
    "    \n",
    "    return encoder_model , decoder_model"
   ]
  },
  {
   "cell_type": "code",
   "execution_count": 24,
   "metadata": {},
   "outputs": [],
   "source": [
    "def str_to_tokens( sentence : str ):\n",
    "    words = sentence.lower().split()\n",
    "    tokens_list = list()\n",
    "    for word in words:\n",
    "        tokens_list.append( tokenizer.word_index[ word ] ) \n",
    "    return preprocessing.sequence.pad_sequences( [tokens_list] , maxlen=maxlen_questions , padding='post')"
   ]
  },
  {
   "cell_type": "code",
   "execution_count": 25,
   "metadata": {},
   "outputs": [
    {
     "name": "stdout",
     "output_type": "stream",
     "text": [
      "Enter question : hello\n",
      " it is me eos\n",
      "Enter question : hi\n",
      " hi roses eos\n",
      "Enter question : who is roses\n",
      " i was the creator eos\n",
      "Enter question : of what\n",
      " the hotel eos\n",
      "Enter question : which hotel\n",
      " you will your last did the answer to eos\n",
      "Enter question : what is your name\n",
      " gretchen we are going together all right eos\n",
      "Enter question : where\n",
      " government recently retired eos\n",
      "Enter question : CIA\n",
      " more or never ever gonna help me eos\n",
      "Enter question : did they\n",
      " a little is not really eos\n",
      "Enter question : what is it then\n",
      " i i just do not want to eos\n"
     ]
    }
   ],
   "source": [
    "enc_model , dec_model = make_inference_models()\n",
    "\n",
    "for _ in range(10):\n",
    "    states_values = enc_model.predict( str_to_tokens( input( 'Enter question : ' ) ) )\n",
    "    empty_target_seq = np.zeros( ( 1 , 1 ) )\n",
    "    empty_target_seq[0, 0] = tokenizer.word_index['bos']\n",
    "    stop_condition = False\n",
    "    decoded_translation = ''\n",
    "    while not stop_condition :\n",
    "        dec_outputs , h , c = dec_model.predict([ empty_target_seq ] + states_values )\n",
    "        sampled_word_index = np.argmax( dec_outputs[0, -1, :] )\n",
    "        sampled_word = None\n",
    "        for word , index in tokenizer.word_index.items() :\n",
    "            if sampled_word_index == index :\n",
    "                decoded_translation += ' {}'.format( word )\n",
    "                sampled_word = word\n",
    "        \n",
    "        if sampled_word == 'eos' or len(decoded_translation.split()) > maxlen_answers:\n",
    "            stop_condition = True\n",
    "            \n",
    "        empty_target_seq = np.zeros( ( 1 , 1 ) )  \n",
    "        empty_target_seq[ 0 , 0 ] = sampled_word_index\n",
    "        states_values = [ h , c ] \n",
    "\n",
    "    print( decoded_translation )\n"
   ]
  },
  {
   "cell_type": "code",
   "execution_count": null,
   "metadata": {},
   "outputs": [],
   "source": []
  }
 ],
 "metadata": {
  "kernelspec": {
   "display_name": "Python 3",
   "language": "python",
   "name": "python3"
  },
  "language_info": {
   "codemirror_mode": {
    "name": "ipython",
    "version": 3
   },
   "file_extension": ".py",
   "mimetype": "text/x-python",
   "name": "python",
   "nbconvert_exporter": "python",
   "pygments_lexer": "ipython3",
   "version": "3.6.10"
  }
 },
 "nbformat": 4,
 "nbformat_minor": 2
}
