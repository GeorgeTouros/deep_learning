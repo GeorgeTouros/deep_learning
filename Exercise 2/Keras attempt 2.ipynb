{
 "cells": [
  {
   "cell_type": "code",
   "execution_count": 1,
   "metadata": {},
   "outputs": [],
   "source": [
    "import numpy as np\n",
    "import tensorflow as tf\n",
    "import pandas\n",
    "import pickle as pkl\n",
    "from tensorflow.keras import layers , activations , models , preprocessing, utils\n",
    "import random\n",
    "random.seed(2020)\n",
    "import re"
   ]
  },
  {
   "cell_type": "code",
   "execution_count": 2,
   "metadata": {},
   "outputs": [],
   "source": [
    "min_line_length = 2\n",
    "max_line_length = 10\n",
    "HIDDEN_DIM=200"
   ]
  },
  {
   "cell_type": "code",
   "execution_count": 3,
   "metadata": {},
   "outputs": [],
   "source": [
    "with open(r\"data\\conversations.pkl\", \"rb\") as handle:\n",
    "    conversation = pkl.load(handle)"
   ]
  },
  {
   "cell_type": "code",
   "execution_count": 4,
   "metadata": {},
   "outputs": [],
   "source": [
    "sample_size = 20000\n",
    "\n",
    "indices = random.sample(range(len(conversation)), sample_size)\n",
    "\n",
    "conv_sample = []\n",
    "\n",
    "for i in indices:\n",
    "    conv = conversation[i]\n",
    "    conv_sample.append(conv)\n"
   ]
  },
  {
   "cell_type": "code",
   "execution_count": 5,
   "metadata": {},
   "outputs": [],
   "source": [
    "# Sort the sentences into questions (inputs) and answers (targets)\n",
    "questions = []\n",
    "answers = []\n",
    "\n",
    "for conv in conv_sample:\n",
    "    for i in range(len(conv)-1):\n",
    "        questions.append(conv[i])\n",
    "        answers.append(conv[i+1])"
   ]
  },
  {
   "cell_type": "code",
   "execution_count": 6,
   "metadata": {},
   "outputs": [],
   "source": [
    "def clean_text(text):\n",
    "    '''Clean text by removing unnecessary characters and altering the format of words.'''\n",
    "    text = text.lower()\n",
    "    text = re.sub(r\"i'm\", \"i am\", text)\n",
    "    text = re.sub(r\"he's\", \"he is\", text)\n",
    "    text = re.sub(r\"she's\", \"she is\", text)\n",
    "    text = re.sub(r\"it's\", \"it is\", text)\n",
    "    text = re.sub(r\"that's\", \"that is\", text)\n",
    "    text = re.sub(r\"what's\", \"that is\", text)\n",
    "    text = re.sub(r\"where's\", \"where is\", text)\n",
    "    text = re.sub(r\"how's\", \"how is\", text)\n",
    "    text = re.sub(r\"\\'ll\", \" will\", text)\n",
    "    text = re.sub(r\"\\'ve\", \" have\", text)\n",
    "    text = re.sub(r\"\\'re\", \" are\", text)\n",
    "    text = re.sub(r\"\\'d\", \" would\", text)\n",
    "    text = re.sub(r\"\\'re\", \" are\", text)\n",
    "    text = re.sub(r\"won't\", \"will not\", text)\n",
    "    text = re.sub(r\"can't\", \"cannot\", text)\n",
    "    text = re.sub(r\"n't\", \" not\", text)\n",
    "    text = re.sub(r\"n'\", \"ng\", text)\n",
    "    text = re.sub(r\"'bout\", \"about\", text)\n",
    "    text = re.sub(r\"'til\", \"until\", text)\n",
    "    text = re.sub(r\"[-()\\\"#/@;:<>{}`+=~|.!?,]\", \"\", text)\n",
    "    text = re.sub(r\"  \", \" \", text)\n",
    "    return text"
   ]
  },
  {
   "cell_type": "code",
   "execution_count": 7,
   "metadata": {},
   "outputs": [],
   "source": [
    "# Clean the data\n",
    "clean_questions = []\n",
    "for question in questions:\n",
    "    clean_questions.append(clean_text(question))\n",
    "    \n",
    "clean_answers = []    \n",
    "for answer in answers:\n",
    "    clean_answers.append(clean_text(answer))"
   ]
  },
  {
   "cell_type": "code",
   "execution_count": 8,
   "metadata": {},
   "outputs": [],
   "source": [
    "# Filter out the questions that are too short/long\n",
    "short_questions_temp = []\n",
    "short_answers_temp = []\n",
    "\n",
    "i = 0\n",
    "for question in clean_questions:\n",
    "    if len(question.split()) >= min_line_length and len(question.split()) <= max_line_length:\n",
    "        short_questions_temp.append(question)\n",
    "        short_answers_temp.append(clean_answers[i])\n",
    "    i += 1\n",
    "\n",
    "# Filter out the answers that are too short/long\n",
    "short_questions = []\n",
    "short_answers = []\n",
    "\n",
    "i = 0\n",
    "for answer in short_answers_temp:\n",
    "    if len(answer.split()) >= min_line_length and len(answer.split()) <= max_line_length:\n",
    "        short_answers.append(answer)\n",
    "        short_questions.append(short_questions_temp[i])\n",
    "    i += 1"
   ]
  },
  {
   "cell_type": "code",
   "execution_count": 9,
   "metadata": {},
   "outputs": [
    {
     "name": "stdout",
     "output_type": "stream",
     "text": [
      "# of questions: 18029\n",
      "# of answers: 18029\n",
      "% of data used: 33.550000000000004%\n"
     ]
    }
   ],
   "source": [
    "# Compare the number of lines we will use with the total number of lines.\n",
    "print(\"# of questions:\", len(short_questions))\n",
    "print(\"# of answers:\", len(short_answers))\n",
    "print(\"% of data used: {}%\".format(round(len(short_questions)/len(questions),4)*100))"
   ]
  },
  {
   "cell_type": "code",
   "execution_count": 10,
   "metadata": {},
   "outputs": [
    {
     "name": "stdout",
     "output_type": "stream",
     "text": [
      "VOCAB SIZE : 12075\n"
     ]
    }
   ],
   "source": [
    "tokenizer = preprocessing.text.Tokenizer()\n",
    "tokenizer.fit_on_texts( short_questions + short_answers )\n",
    "VOCAB_SIZE = len( tokenizer.word_index )+1\n",
    "print( 'VOCAB SIZE : {}'.format( VOCAB_SIZE ))"
   ]
  },
  {
   "cell_type": "code",
   "execution_count": 11,
   "metadata": {},
   "outputs": [],
   "source": [
    "def trim_rare_words(word_counts, list_of_questions, list_of_answers, min_word_freq=1):\n",
    "    \"\"\"\n",
    "    take a dict of word wounts, a list of questions and a list of answers \n",
    "    and return these lists without those that have rare words. \n",
    "    Optional argument sets the minimum frequency of the rare words. \n",
    "    \"\"\"\n",
    "    keep_words = {}\n",
    "    for key, value in word_counts:\n",
    "        if value > min_word_freq:\n",
    "            keep_words[key] = value\n",
    "    \n",
    "    keep_questions_indeces = []\n",
    "    for i, question in enumerate(list_of_questions):\n",
    "        q_words = question.split(' ')\n",
    "        if all(word in keep_words.keys() for word in q_words):\n",
    "            keep_questions_indeces.append(i)\n",
    "    keep_answer_indeces = []\n",
    "    for i, answer in enumerate(list_of_answers):\n",
    "        a_words = answer.split(' ')\n",
    "        if all(word in keep_words.keys() for word in a_words):\n",
    "            keep_answer_indeces.append(i)\n",
    "    \n",
    "    total_keep = set(keep_questions_indeces).intersection(keep_answer_indeces)\n",
    "    \n",
    "    keep_questions = [question for i, question in enumerate(list_of_questions) if i in total_keep ]\n",
    "    keep_answers = [answer for i, answer in enumerate(list_of_answers) if i in total_keep ]\n",
    "    \n",
    "    \n",
    "    return keep_questions, keep_answers\n",
    "\n",
    "k_questions, k_answers = trim_rare_words(tokenizer.word_counts.items(), short_questions, short_answers, 1)  "
   ]
  },
  {
   "cell_type": "code",
   "execution_count": 12,
   "metadata": {},
   "outputs": [],
   "source": [
    "def tagger(decoder_input_sentence):\n",
    "    bos = \"<BOS> \"\n",
    "    eos = \" <EOS>\"\n",
    "    final_target = [bos + text + eos for text in decoder_input_sentence] \n",
    "    return final_target\n",
    "\n",
    "tagged_answers = tagger(k_answers)"
   ]
  },
  {
   "cell_type": "code",
   "execution_count": 13,
   "metadata": {},
   "outputs": [
    {
     "name": "stdout",
     "output_type": "stream",
     "text": [
      "New VOCAB SIZE : 6232\n"
     ]
    }
   ],
   "source": [
    "tokenizer = preprocessing.text.Tokenizer()\n",
    "tokenizer.fit_on_texts( k_questions + tagged_answers )\n",
    "VOCAB_SIZE = len( tokenizer.word_index )+1\n",
    "print( 'New VOCAB SIZE : {}'.format( VOCAB_SIZE ))"
   ]
  },
  {
   "cell_type": "code",
   "execution_count": 14,
   "metadata": {},
   "outputs": [
    {
     "name": "stdout",
     "output_type": "stream",
     "text": [
      "(13131, 10) 10\n",
      "(13131, 12) 12\n",
      "(13131, 12, 6232)\n"
     ]
    }
   ],
   "source": [
    "# encoder_input_data\n",
    "tokenized_questions = tokenizer.texts_to_sequences( k_questions )\n",
    "maxlen_questions = max( [ len(x) for x in tokenized_questions ] )\n",
    "padded_questions = preprocessing.sequence.pad_sequences( tokenized_questions , maxlen=maxlen_questions , padding='post' )\n",
    "encoder_input_data = np.array( padded_questions )\n",
    "print( encoder_input_data.shape , maxlen_questions )\n",
    "\n",
    "# decoder_input_data\n",
    "tokenized_answers = tokenizer.texts_to_sequences( tagged_answers )\n",
    "maxlen_answers = max( [ len(x) for x in tokenized_answers ] )\n",
    "padded_answers = preprocessing.sequence.pad_sequences( tokenized_answers , maxlen=maxlen_answers , padding='post' )\n",
    "decoder_input_data = np.array( padded_answers )\n",
    "print( decoder_input_data.shape , maxlen_answers )\n",
    "\n",
    "# decoder_output_data\n",
    "tokenized_answers = tokenizer.texts_to_sequences( tagged_answers )\n",
    "for i in range(len(tokenized_answers)) :\n",
    "    tokenized_answers[i] = tokenized_answers[i][1:]\n",
    "padded_answers = preprocessing.sequence.pad_sequences( tokenized_answers , maxlen=maxlen_answers , padding='post' )\n",
    "onehot_answers = utils.to_categorical( padded_answers , VOCAB_SIZE )\n",
    "decoder_output_data = np.array( onehot_answers )\n",
    "print( decoder_output_data.shape )\n",
    "\n",
    "# Saving all the arrays to storage\n",
    "#np.save( 'enc_in_data.npy' , encoder_input_data )\n",
    "#np.save( 'dec_in_data.npy' , decoder_input_data )\n",
    "#np.save( 'dec_tar_data.npy' , decoder_output_data )"
   ]
  },
  {
   "cell_type": "code",
   "execution_count": 15,
   "metadata": {},
   "outputs": [
    {
     "name": "stdout",
     "output_type": "stream",
     "text": [
      "WARNING:tensorflow:From C:\\Users\\georg\\Anaconda3\\lib\\site-packages\\tensorflow_core\\python\\keras\\initializers.py:119: calling RandomUniform.__init__ (from tensorflow.python.ops.init_ops) with dtype is deprecated and will be removed in a future version.\n",
      "Instructions for updating:\n",
      "Call initializer instance with the dtype argument instead of passing it to the constructor\n",
      "WARNING:tensorflow:From C:\\Users\\georg\\Anaconda3\\lib\\site-packages\\tensorflow_core\\python\\ops\\resource_variable_ops.py:1630: calling BaseResourceVariable.__init__ (from tensorflow.python.ops.resource_variable_ops) with constraint is deprecated and will be removed in a future version.\n",
      "Instructions for updating:\n",
      "If using Keras pass *_constraint arguments to layers.\n",
      "WARNING:tensorflow:From C:\\Users\\georg\\Anaconda3\\lib\\site-packages\\tensorflow_core\\python\\keras\\backend.py:3994: where (from tensorflow.python.ops.array_ops) is deprecated and will be removed in a future version.\n",
      "Instructions for updating:\n",
      "Use tf.where in 2.0, which has the same broadcast rule as np.where\n",
      "Model: \"model\"\n",
      "__________________________________________________________________________________________________\n",
      "Layer (type)                    Output Shape         Param #     Connected to                     \n",
      "==================================================================================================\n",
      "input_1 (InputLayer)            [(None, None)]       0                                            \n",
      "__________________________________________________________________________________________________\n",
      "input_2 (InputLayer)            [(None, None)]       0                                            \n",
      "__________________________________________________________________________________________________\n",
      "embedding (Embedding)           (None, None, 200)    1246400     input_1[0][0]                    \n",
      "__________________________________________________________________________________________________\n",
      "embedding_1 (Embedding)         (None, None, 200)    1246400     input_2[0][0]                    \n",
      "__________________________________________________________________________________________________\n",
      "lstm (LSTM)                     [(None, 200), (None, 320800      embedding[0][0]                  \n",
      "__________________________________________________________________________________________________\n",
      "lstm_1 (LSTM)                   [(None, None, 200),  320800      embedding_1[0][0]                \n",
      "                                                                 lstm[0][1]                       \n",
      "                                                                 lstm[0][2]                       \n",
      "__________________________________________________________________________________________________\n",
      "dense (Dense)                   (None, None, 6232)   1252632     lstm_1[0][0]                     \n",
      "==================================================================================================\n",
      "Total params: 4,387,032\n",
      "Trainable params: 4,387,032\n",
      "Non-trainable params: 0\n",
      "__________________________________________________________________________________________________\n"
     ]
    }
   ],
   "source": [
    "encoder_inputs = tf.keras.layers.Input(shape=( None , ))\n",
    "encoder_embedding = tf.keras.layers.Embedding( VOCAB_SIZE, 200 , mask_zero=True ) (encoder_inputs)\n",
    "encoder_outputs , state_h , state_c = tf.keras.layers.LSTM( 200 , return_state=True )( encoder_embedding )\n",
    "encoder_states = [ state_h , state_c ]\n",
    "\n",
    "decoder_inputs = tf.keras.layers.Input(shape=( None ,  ))\n",
    "decoder_embedding = tf.keras.layers.Embedding( VOCAB_SIZE, 200 , mask_zero=True) (decoder_inputs)\n",
    "decoder_lstm = tf.keras.layers.LSTM( 200 , return_state=True , return_sequences=True )\n",
    "decoder_outputs , _ , _ = decoder_lstm ( decoder_embedding , initial_state=encoder_states )\n",
    "decoder_dense = tf.keras.layers.Dense( VOCAB_SIZE , activation=tf.keras.activations.softmax ) \n",
    "output = decoder_dense ( decoder_outputs )\n",
    "\n",
    "model = tf.keras.models.Model([encoder_inputs, decoder_inputs], output )\n",
    "model.compile(optimizer=tf.keras.optimizers.RMSprop(), loss='categorical_crossentropy', metrics=['accuracy'])\n",
    "\n",
    "model.summary()"
   ]
  },
  {
   "cell_type": "code",
   "execution_count": 16,
   "metadata": {},
   "outputs": [
    {
     "name": "stdout",
     "output_type": "stream",
     "text": [
      "Train on 10504 samples, validate on 2627 samples\n",
      "Epoch 1/45\n",
      "10504/10504 [==============================] - 42s 4ms/sample - loss: 3.1696 - acc: 0.2273 - val_loss: 2.7953 - val_acc: 0.2986\n",
      "Epoch 2/45\n",
      "10504/10504 [==============================] - 41s 4ms/sample - loss: 2.7156 - acc: 0.3064 - val_loss: 2.6702 - val_acc: 0.3108\n",
      "Epoch 3/45\n",
      "10504/10504 [==============================] - 41s 4ms/sample - loss: 2.5968 - acc: 0.3243 - val_loss: 2.6012 - val_acc: 0.3311\n",
      "Epoch 4/45\n",
      "10504/10504 [==============================] - 41s 4ms/sample - loss: 2.5037 - acc: 0.3358 - val_loss: 2.5519 - val_acc: 0.3393\n",
      "Epoch 5/45\n",
      "10504/10504 [==============================] - 41s 4ms/sample - loss: 2.4279 - acc: 0.3454 - val_loss: 2.4972 - val_acc: 0.3500\n",
      "Epoch 6/45\n",
      "10504/10504 [==============================] - 41s 4ms/sample - loss: 2.3650 - acc: 0.3560 - val_loss: 2.4725 - val_acc: 0.3551\n",
      "Epoch 7/45\n",
      "10504/10504 [==============================] - 41s 4ms/sample - loss: 2.3113 - acc: 0.3630 - val_loss: 2.4539 - val_acc: 0.3632\n",
      "Epoch 8/45\n",
      "10504/10504 [==============================] - 40s 4ms/sample - loss: 2.2636 - acc: 0.3684 - val_loss: 2.4411 - val_acc: 0.3614\n",
      "Epoch 9/45\n",
      "10504/10504 [==============================] - 41s 4ms/sample - loss: 2.2193 - acc: 0.3735 - val_loss: 2.4403 - val_acc: 0.3600\n",
      "Epoch 10/45\n",
      "10504/10504 [==============================] - 41s 4ms/sample - loss: 2.1783 - acc: 0.3787 - val_loss: 2.4345 - val_acc: 0.3640\n",
      "Epoch 11/45\n",
      "10504/10504 [==============================] - 41s 4ms/sample - loss: 2.1406 - acc: 0.3837 - val_loss: 2.4500 - val_acc: 0.3562\n",
      "Epoch 12/45\n",
      "10504/10504 [==============================] - 41s 4ms/sample - loss: 2.1036 - acc: 0.3885 - val_loss: 2.4416 - val_acc: 0.3654\n",
      "Epoch 13/45\n",
      "10504/10504 [==============================] - 40s 4ms/sample - loss: 2.0700 - acc: 0.3918 - val_loss: 2.4613 - val_acc: 0.3568\n",
      "Epoch 14/45\n",
      "10504/10504 [==============================] - 40s 4ms/sample - loss: 2.0344 - acc: 0.3964 - val_loss: 2.4573 - val_acc: 0.3660\n",
      "Epoch 15/45\n",
      "10504/10504 [==============================] - 41s 4ms/sample - loss: 1.9985 - acc: 0.4014 - val_loss: 2.4581 - val_acc: 0.3664\n",
      "Epoch 16/45\n",
      "10504/10504 [==============================] - 42s 4ms/sample - loss: 1.9628 - acc: 0.4053 - val_loss: 2.4583 - val_acc: 0.3653\n",
      "Epoch 17/45\n",
      "10504/10504 [==============================] - 41s 4ms/sample - loss: 1.9276 - acc: 0.4106 - val_loss: 2.4740 - val_acc: 0.3596\n",
      "Epoch 18/45\n",
      "10504/10504 [==============================] - 41s 4ms/sample - loss: 1.8929 - acc: 0.4154 - val_loss: 2.4940 - val_acc: 0.3490\n",
      "Epoch 19/45\n",
      "10504/10504 [==============================] - 41s 4ms/sample - loss: 1.8584 - acc: 0.4214 - val_loss: 2.4913 - val_acc: 0.3559\n",
      "Epoch 20/45\n",
      "10504/10504 [==============================] - 41s 4ms/sample - loss: 1.8251 - acc: 0.4263 - val_loss: 2.5167 - val_acc: 0.3590\n",
      "Epoch 21/45\n",
      "10504/10504 [==============================] - 41s 4ms/sample - loss: 1.7909 - acc: 0.4321 - val_loss: 2.5330 - val_acc: 0.3520\n",
      "Epoch 22/45\n",
      "10504/10504 [==============================] - 41s 4ms/sample - loss: 1.7561 - acc: 0.4381 - val_loss: 2.5276 - val_acc: 0.3572\n",
      "Epoch 23/45\n",
      "10504/10504 [==============================] - 41s 4ms/sample - loss: 1.7208 - acc: 0.4443 - val_loss: 2.5485 - val_acc: 0.3549\n",
      "Epoch 24/45\n",
      "10504/10504 [==============================] - 41s 4ms/sample - loss: 1.6864 - acc: 0.4520 - val_loss: 2.5687 - val_acc: 0.3469\n",
      "Epoch 25/45\n",
      "10504/10504 [==============================] - 41s 4ms/sample - loss: 1.6523 - acc: 0.4594 - val_loss: 2.6035 - val_acc: 0.3460\n",
      "Epoch 26/45\n",
      "10504/10504 [==============================] - 41s 4ms/sample - loss: 1.6179 - acc: 0.4668 - val_loss: 2.6217 - val_acc: 0.3483\n",
      "Epoch 27/45\n",
      "10504/10504 [==============================] - 41s 4ms/sample - loss: 1.5843 - acc: 0.4747 - val_loss: 2.6165 - val_acc: 0.3415\n",
      "Epoch 28/45\n",
      "10504/10504 [==============================] - 41s 4ms/sample - loss: 1.5488 - acc: 0.4828 - val_loss: 2.6550 - val_acc: 0.3451\n",
      "Epoch 29/45\n",
      "10504/10504 [==============================] - 41s 4ms/sample - loss: 1.5150 - acc: 0.4917 - val_loss: 2.6501 - val_acc: 0.3375\n",
      "Epoch 30/45\n",
      "10504/10504 [==============================] - 41s 4ms/sample - loss: 1.4800 - acc: 0.4997 - val_loss: 2.7034 - val_acc: 0.3291\n",
      "Epoch 31/45\n",
      "10504/10504 [==============================] - 41s 4ms/sample - loss: 1.4478 - acc: 0.5091 - val_loss: 2.7206 - val_acc: 0.3312\n",
      "Epoch 32/45\n",
      "10504/10504 [==============================] - 41s 4ms/sample - loss: 1.4124 - acc: 0.5192 - val_loss: 2.7164 - val_acc: 0.3354\n",
      "Epoch 33/45\n",
      "10504/10504 [==============================] - 41s 4ms/sample - loss: 1.3793 - acc: 0.5296 - val_loss: 2.7849 - val_acc: 0.3106\n",
      "Epoch 34/45\n",
      "10504/10504 [==============================] - 41s 4ms/sample - loss: 1.3430 - acc: 0.5407 - val_loss: 2.8036 - val_acc: 0.3325\n",
      "Epoch 35/45\n",
      "10504/10504 [==============================] - 41s 4ms/sample - loss: 1.3113 - acc: 0.5489 - val_loss: 2.7971 - val_acc: 0.3310\n",
      "Epoch 36/45\n",
      "10504/10504 [==============================] - 41s 4ms/sample - loss: 1.2769 - acc: 0.5608 - val_loss: 2.8276 - val_acc: 0.3144\n",
      "Epoch 37/45\n",
      "10504/10504 [==============================] - 41s 4ms/sample - loss: 1.2434 - acc: 0.5714 - val_loss: 2.8467 - val_acc: 0.3224\n",
      "Epoch 38/45\n",
      "10504/10504 [==============================] - 42s 4ms/sample - loss: 1.2107 - acc: 0.5821 - val_loss: 2.8748 - val_acc: 0.3285\n",
      "Epoch 39/45\n",
      "10504/10504 [==============================] - 41s 4ms/sample - loss: 1.1792 - acc: 0.5943 - val_loss: 2.8866 - val_acc: 0.3190\n",
      "Epoch 40/45\n",
      "10504/10504 [==============================] - 41s 4ms/sample - loss: 1.1466 - acc: 0.6047 - val_loss: 2.9049 - val_acc: 0.3266\n",
      "Epoch 41/45\n",
      "10504/10504 [==============================] - 40s 4ms/sample - loss: 1.1148 - acc: 0.6152 - val_loss: 2.9374 - val_acc: 0.3187\n",
      "Epoch 42/45\n",
      "10504/10504 [==============================] - 40s 4ms/sample - loss: 1.0841 - acc: 0.6274 - val_loss: 2.9682 - val_acc: 0.3157\n",
      "Epoch 43/45\n",
      "10504/10504 [==============================] - 40s 4ms/sample - loss: 1.0536 - acc: 0.6389 - val_loss: 2.9649 - val_acc: 0.3201\n",
      "Epoch 44/45\n",
      "10504/10504 [==============================] - 40s 4ms/sample - loss: 1.0223 - acc: 0.6487 - val_loss: 3.0090 - val_acc: 0.3119\n",
      "Epoch 45/45\n",
      "10504/10504 [==============================] - 40s 4ms/sample - loss: 0.9948 - acc: 0.6609 - val_loss: 3.0187 - val_acc: 0.3124\n",
      "Wall time: 30min 38s\n"
     ]
    }
   ],
   "source": [
    "%%time\n",
    "batch_size = 100\n",
    "epochs = 45\n",
    "\n",
    "history = model.fit([encoder_input_data, decoder_input_data],decoder_output_data,\n",
    "                    batch_size=batch_size,\n",
    "                    epochs=epochs,\n",
    "                    verbose=1,\n",
    "                    validation_split=0.2)"
   ]
  },
  {
   "cell_type": "code",
   "execution_count": 17,
   "metadata": {},
   "outputs": [
    {
     "name": "stdout",
     "output_type": "stream",
     "text": [
      "Saved model to disk\n"
     ]
    }
   ],
   "source": [
    "model_json = model.to_json()\n",
    "with open(\"s2s_model_keras.json\", \"w\") as json_file:\n",
    "    json_file.write(model_json)\n",
    "# serialize weights to HDF5\n",
    "model.save_weights(\"s2s_model_keras_weights.h5\")\n",
    "print(\"Saved model to disk\")"
   ]
  },
  {
   "cell_type": "code",
   "execution_count": 18,
   "metadata": {},
   "outputs": [],
   "source": [
    "model.load_weights('s2s_model_keras_weights.h5')"
   ]
  },
  {
   "cell_type": "code",
   "execution_count": 19,
   "metadata": {},
   "outputs": [],
   "source": [
    "def make_inference_models():\n",
    "    \n",
    "    encoder_model = tf.keras.models.Model(encoder_inputs, encoder_states)\n",
    "    \n",
    "    decoder_state_input_h = tf.keras.layers.Input(shape=( 200 ,))\n",
    "    decoder_state_input_c = tf.keras.layers.Input(shape=( 200 ,))\n",
    "    \n",
    "    decoder_states_inputs = [decoder_state_input_h, decoder_state_input_c]\n",
    "    \n",
    "    decoder_outputs, state_h, state_c = decoder_lstm(\n",
    "        decoder_embedding , initial_state=decoder_states_inputs)\n",
    "    decoder_states = [state_h, state_c]\n",
    "    decoder_outputs = decoder_dense(decoder_outputs)\n",
    "    decoder_model = tf.keras.models.Model(\n",
    "        [decoder_inputs] + decoder_states_inputs,\n",
    "        [decoder_outputs] + decoder_states)\n",
    "    \n",
    "    return encoder_model , decoder_model"
   ]
  },
  {
   "cell_type": "code",
   "execution_count": 20,
   "metadata": {},
   "outputs": [],
   "source": [
    "def str_to_tokens( sentence : str ):\n",
    "    words = sentence.lower().split()\n",
    "    tokens_list = list()\n",
    "    for word in words:\n",
    "        tokens_list.append( tokenizer.word_index[ word ] ) \n",
    "    return preprocessing.sequence.pad_sequences( [tokens_list] , maxlen=maxlen_questions , padding='post')"
   ]
  },
  {
   "cell_type": "code",
   "execution_count": 21,
   "metadata": {},
   "outputs": [
    {
     "name": "stdout",
     "output_type": "stream",
     "text": [
      "Enter question : hello\n",
      " okay i need eos\n",
      "Enter question : how are you\n",
      " i am not sure eos\n",
      "Enter question : why\n",
      " i do not know eos\n",
      "Enter question : do you like music\n",
      " i do not know eos\n",
      "Enter question : what do you like\n",
      " it is a pleasure eos\n",
      "Enter question : do you like\n",
      " i do not know eos\n",
      "Enter question : what time is it\n",
      " it is just be quiet eos\n",
      "Enter question : why are you rude\n",
      " that is what i mean eos\n",
      "Enter question : what do you mean\n",
      " i am not sure it is my you eos\n",
      "Enter question : is it tough\n",
      " you got a little island eos\n"
     ]
    }
   ],
   "source": [
    "enc_model , dec_model = make_inference_models()\n",
    "\n",
    "for _ in range(10):\n",
    "    states_values = enc_model.predict( str_to_tokens( input( 'Enter question : ' ) ) )\n",
    "    empty_target_seq = np.zeros( ( 1 , 1 ) )\n",
    "    empty_target_seq[0, 0] = tokenizer.word_index['bos']\n",
    "    stop_condition = False\n",
    "    decoded_translation = ''\n",
    "    while not stop_condition :\n",
    "        dec_outputs , h , c = dec_model.predict([ empty_target_seq ] + states_values )\n",
    "        sampled_word_index = np.argmax( dec_outputs[0, -1, :] )\n",
    "        sampled_word = None\n",
    "        for word , index in tokenizer.word_index.items() :\n",
    "            if sampled_word_index == index :\n",
    "                decoded_translation += ' {}'.format( word )\n",
    "                sampled_word = word\n",
    "        \n",
    "        if sampled_word == 'eos' or len(decoded_translation.split()) > maxlen_answers:\n",
    "            stop_condition = True\n",
    "            \n",
    "        empty_target_seq = np.zeros( ( 1 , 1 ) )  \n",
    "        empty_target_seq[ 0 , 0 ] = sampled_word_index\n",
    "        states_values = [ h , c ] \n",
    "\n",
    "    print( decoded_translation )\n"
   ]
  },
  {
   "cell_type": "code",
   "execution_count": null,
   "metadata": {},
   "outputs": [],
   "source": []
  }
 ],
 "metadata": {
  "kernelspec": {
   "display_name": "Python 3",
   "language": "python",
   "name": "python3"
  },
  "language_info": {
   "codemirror_mode": {
    "name": "ipython",
    "version": 3
   },
   "file_extension": ".py",
   "mimetype": "text/x-python",
   "name": "python",
   "nbconvert_exporter": "python",
   "pygments_lexer": "ipython3",
   "version": "3.6.10"
  }
 },
 "nbformat": 4,
 "nbformat_minor": 2
}
